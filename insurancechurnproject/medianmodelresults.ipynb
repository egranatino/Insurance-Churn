{
 "cells": [
  {
   "cell_type": "code",
   "execution_count": 1,
   "id": "a039d051-9134-46b6-a536-b3de4d9da7d3",
   "metadata": {},
   "outputs": [
    {
     "data": {
      "text/html": [
       "<div>\n",
       "<style scoped>\n",
       "    .dataframe tbody tr th:only-of-type {\n",
       "        vertical-align: middle;\n",
       "    }\n",
       "\n",
       "    .dataframe tbody tr th {\n",
       "        vertical-align: top;\n",
       "    }\n",
       "\n",
       "    .dataframe thead th {\n",
       "        text-align: right;\n",
       "    }\n",
       "</style>\n",
       "<table border=\"1\" class=\"dataframe\">\n",
       "  <thead>\n",
       "    <tr style=\"text-align: right;\">\n",
       "      <th></th>\n",
       "      <th>feature_0</th>\n",
       "      <th>feature_1</th>\n",
       "      <th>feature_2</th>\n",
       "      <th>feature_3</th>\n",
       "      <th>feature_4</th>\n",
       "      <th>feature_7</th>\n",
       "      <th>feature_8</th>\n",
       "      <th>feature_9</th>\n",
       "      <th>feature_10</th>\n",
       "      <th>feature_11</th>\n",
       "      <th>feature_12</th>\n",
       "      <th>feature_13</th>\n",
       "      <th>feature_14</th>\n",
       "      <th>feature_15</th>\n",
       "      <th>labels</th>\n",
       "    </tr>\n",
       "  </thead>\n",
       "  <tbody>\n",
       "    <tr>\n",
       "      <th>0</th>\n",
       "      <td>-2.159994</td>\n",
       "      <td>-0.446434</td>\n",
       "      <td>1.104681</td>\n",
       "      <td>-0.497672</td>\n",
       "      <td>-0.246560</td>\n",
       "      <td>8</td>\n",
       "      <td>2</td>\n",
       "      <td>3</td>\n",
       "      <td>0</td>\n",
       "      <td>0</td>\n",
       "      <td>0</td>\n",
       "      <td>0</td>\n",
       "      <td>1</td>\n",
       "      <td>3</td>\n",
       "      <td>1</td>\n",
       "    </tr>\n",
       "    <tr>\n",
       "      <th>1</th>\n",
       "      <td>-2.159994</td>\n",
       "      <td>-0.445777</td>\n",
       "      <td>0.984523</td>\n",
       "      <td>-0.447192</td>\n",
       "      <td>-0.246560</td>\n",
       "      <td>8</td>\n",
       "      <td>2</td>\n",
       "      <td>1</td>\n",
       "      <td>0</td>\n",
       "      <td>0</td>\n",
       "      <td>0</td>\n",
       "      <td>0</td>\n",
       "      <td>1</td>\n",
       "      <td>3</td>\n",
       "      <td>0</td>\n",
       "    </tr>\n",
       "    <tr>\n",
       "      <th>2</th>\n",
       "      <td>-2.159994</td>\n",
       "      <td>-0.435924</td>\n",
       "      <td>0.624050</td>\n",
       "      <td>-0.598634</td>\n",
       "      <td>-0.246560</td>\n",
       "      <td>8</td>\n",
       "      <td>2</td>\n",
       "      <td>3</td>\n",
       "      <td>0</td>\n",
       "      <td>0</td>\n",
       "      <td>0</td>\n",
       "      <td>1</td>\n",
       "      <td>1</td>\n",
       "      <td>3</td>\n",
       "      <td>0</td>\n",
       "    </tr>\n",
       "    <tr>\n",
       "      <th>3</th>\n",
       "      <td>-2.159994</td>\n",
       "      <td>-0.333124</td>\n",
       "      <td>-1.298476</td>\n",
       "      <td>0.717744</td>\n",
       "      <td>0.399020</td>\n",
       "      <td>8</td>\n",
       "      <td>2</td>\n",
       "      <td>3</td>\n",
       "      <td>0</td>\n",
       "      <td>0</td>\n",
       "      <td>0</td>\n",
       "      <td>0</td>\n",
       "      <td>8</td>\n",
       "      <td>3</td>\n",
       "      <td>1</td>\n",
       "    </tr>\n",
       "    <tr>\n",
       "      <th>4</th>\n",
       "      <td>-2.159994</td>\n",
       "      <td>-0.303564</td>\n",
       "      <td>-1.779108</td>\n",
       "      <td>0.647848</td>\n",
       "      <td>-0.569351</td>\n",
       "      <td>8</td>\n",
       "      <td>2</td>\n",
       "      <td>3</td>\n",
       "      <td>0</td>\n",
       "      <td>0</td>\n",
       "      <td>0</td>\n",
       "      <td>0</td>\n",
       "      <td>11</td>\n",
       "      <td>3</td>\n",
       "      <td>0</td>\n",
       "    </tr>\n",
       "  </tbody>\n",
       "</table>\n",
       "</div>"
      ],
      "text/plain": [
       "   feature_0  feature_1  feature_2  feature_3  feature_4  feature_7  \\\n",
       "0  -2.159994  -0.446434   1.104681  -0.497672  -0.246560          8   \n",
       "1  -2.159994  -0.445777   0.984523  -0.447192  -0.246560          8   \n",
       "2  -2.159994  -0.435924   0.624050  -0.598634  -0.246560          8   \n",
       "3  -2.159994  -0.333124  -1.298476   0.717744   0.399020          8   \n",
       "4  -2.159994  -0.303564  -1.779108   0.647848  -0.569351          8   \n",
       "\n",
       "   feature_8  feature_9  feature_10  feature_11  feature_12  feature_13  \\\n",
       "0          2          3           0           0           0           0   \n",
       "1          2          1           0           0           0           0   \n",
       "2          2          3           0           0           0           1   \n",
       "3          2          3           0           0           0           0   \n",
       "4          2          3           0           0           0           0   \n",
       "\n",
       "   feature_14  feature_15  labels  \n",
       "0           1           3       1  \n",
       "1           1           3       0  \n",
       "2           1           3       0  \n",
       "3           8           3       1  \n",
       "4          11           3       0  "
      ]
     },
     "execution_count": 1,
     "metadata": {},
     "output_type": "execute_result"
    }
   ],
   "source": [
    "import pandas as pd\n",
    "import numpy as np\n",
    "\n",
    "# read in data and show first rows\n",
    "trainoutliers = pd.read_csv(\"traintomedian.csv\")\n",
    "trainoutliers.head()"
   ]
  },
  {
   "cell_type": "code",
   "execution_count": 2,
   "id": "88fde80c-e943-4d15-83ae-06aa708feb88",
   "metadata": {},
   "outputs": [
    {
     "data": {
      "text/html": [
       "<div>\n",
       "<style scoped>\n",
       "    .dataframe tbody tr th:only-of-type {\n",
       "        vertical-align: middle;\n",
       "    }\n",
       "\n",
       "    .dataframe tbody tr th {\n",
       "        vertical-align: top;\n",
       "    }\n",
       "\n",
       "    .dataframe thead th {\n",
       "        text-align: right;\n",
       "    }\n",
       "</style>\n",
       "<table border=\"1\" class=\"dataframe\">\n",
       "  <thead>\n",
       "    <tr style=\"text-align: right;\">\n",
       "      <th></th>\n",
       "      <th>feature_0</th>\n",
       "      <th>feature_1</th>\n",
       "      <th>feature_2</th>\n",
       "      <th>feature_3</th>\n",
       "      <th>feature_4</th>\n",
       "      <th>feature_7</th>\n",
       "      <th>feature_8</th>\n",
       "      <th>feature_9</th>\n",
       "      <th>feature_10</th>\n",
       "      <th>feature_11</th>\n",
       "      <th>feature_12</th>\n",
       "      <th>feature_13</th>\n",
       "      <th>feature_14</th>\n",
       "      <th>feature_15</th>\n",
       "      <th>labels</th>\n",
       "    </tr>\n",
       "  </thead>\n",
       "  <tbody>\n",
       "    <tr>\n",
       "      <th>count</th>\n",
       "      <td>33908.000000</td>\n",
       "      <td>33908.000000</td>\n",
       "      <td>33908.000000</td>\n",
       "      <td>33908.000000</td>\n",
       "      <td>33908.000000</td>\n",
       "      <td>33908.000000</td>\n",
       "      <td>33908.000000</td>\n",
       "      <td>33908.000000</td>\n",
       "      <td>33908.000000</td>\n",
       "      <td>33908.000000</td>\n",
       "      <td>33908.000000</td>\n",
       "      <td>33908.000000</td>\n",
       "      <td>33908.000000</td>\n",
       "      <td>33908.000000</td>\n",
       "      <td>33908.000000</td>\n",
       "    </tr>\n",
       "    <tr>\n",
       "      <th>mean</th>\n",
       "      <td>-0.042743</td>\n",
       "      <td>-0.241770</td>\n",
       "      <td>-0.000213</td>\n",
       "      <td>-0.219161</td>\n",
       "      <td>-0.208568</td>\n",
       "      <td>4.336381</td>\n",
       "      <td>1.171051</td>\n",
       "      <td>1.225345</td>\n",
       "      <td>0.018137</td>\n",
       "      <td>0.555503</td>\n",
       "      <td>0.159667</td>\n",
       "      <td>0.639407</td>\n",
       "      <td>5.520497</td>\n",
       "      <td>2.562375</td>\n",
       "      <td>0.116993</td>\n",
       "    </tr>\n",
       "    <tr>\n",
       "      <th>std</th>\n",
       "      <td>0.934056</td>\n",
       "      <td>0.263976</td>\n",
       "      <td>1.000872</td>\n",
       "      <td>0.526869</td>\n",
       "      <td>0.408655</td>\n",
       "      <td>3.273376</td>\n",
       "      <td>0.606730</td>\n",
       "      <td>0.749104</td>\n",
       "      <td>0.133450</td>\n",
       "      <td>0.496917</td>\n",
       "      <td>0.366303</td>\n",
       "      <td>0.897627</td>\n",
       "      <td>3.003241</td>\n",
       "      <td>0.987148</td>\n",
       "      <td>0.321417</td>\n",
       "    </tr>\n",
       "    <tr>\n",
       "      <th>min</th>\n",
       "      <td>-2.159994</td>\n",
       "      <td>-1.085899</td>\n",
       "      <td>-1.779108</td>\n",
       "      <td>-1.002478</td>\n",
       "      <td>-0.569351</td>\n",
       "      <td>0.000000</td>\n",
       "      <td>0.000000</td>\n",
       "      <td>0.000000</td>\n",
       "      <td>0.000000</td>\n",
       "      <td>0.000000</td>\n",
       "      <td>0.000000</td>\n",
       "      <td>0.000000</td>\n",
       "      <td>0.000000</td>\n",
       "      <td>0.000000</td>\n",
       "      <td>0.000000</td>\n",
       "    </tr>\n",
       "    <tr>\n",
       "      <th>25%</th>\n",
       "      <td>-0.747384</td>\n",
       "      <td>-0.422787</td>\n",
       "      <td>-0.938003</td>\n",
       "      <td>-0.602517</td>\n",
       "      <td>-0.569351</td>\n",
       "      <td>1.000000</td>\n",
       "      <td>1.000000</td>\n",
       "      <td>1.000000</td>\n",
       "      <td>0.000000</td>\n",
       "      <td>0.000000</td>\n",
       "      <td>0.000000</td>\n",
       "      <td>0.000000</td>\n",
       "      <td>3.000000</td>\n",
       "      <td>3.000000</td>\n",
       "      <td>0.000000</td>\n",
       "    </tr>\n",
       "    <tr>\n",
       "      <th>50%</th>\n",
       "      <td>-0.182341</td>\n",
       "      <td>-0.297324</td>\n",
       "      <td>0.023260</td>\n",
       "      <td>-0.303517</td>\n",
       "      <td>-0.246560</td>\n",
       "      <td>4.000000</td>\n",
       "      <td>1.000000</td>\n",
       "      <td>1.000000</td>\n",
       "      <td>0.000000</td>\n",
       "      <td>1.000000</td>\n",
       "      <td>0.000000</td>\n",
       "      <td>0.000000</td>\n",
       "      <td>6.000000</td>\n",
       "      <td>3.000000</td>\n",
       "      <td>0.000000</td>\n",
       "    </tr>\n",
       "    <tr>\n",
       "      <th>75%</th>\n",
       "      <td>0.665225</td>\n",
       "      <td>-0.159381</td>\n",
       "      <td>0.624050</td>\n",
       "      <td>0.026549</td>\n",
       "      <td>0.076230</td>\n",
       "      <td>7.000000</td>\n",
       "      <td>2.000000</td>\n",
       "      <td>2.000000</td>\n",
       "      <td>0.000000</td>\n",
       "      <td>1.000000</td>\n",
       "      <td>0.000000</td>\n",
       "      <td>2.000000</td>\n",
       "      <td>8.000000</td>\n",
       "      <td>3.000000</td>\n",
       "      <td>0.000000</td>\n",
       "    </tr>\n",
       "    <tr>\n",
       "      <th>max</th>\n",
       "      <td>2.737053</td>\n",
       "      <td>0.691269</td>\n",
       "      <td>1.825628</td>\n",
       "      <td>1.490484</td>\n",
       "      <td>1.044601</td>\n",
       "      <td>11.000000</td>\n",
       "      <td>2.000000</td>\n",
       "      <td>3.000000</td>\n",
       "      <td>1.000000</td>\n",
       "      <td>1.000000</td>\n",
       "      <td>1.000000</td>\n",
       "      <td>2.000000</td>\n",
       "      <td>11.000000</td>\n",
       "      <td>3.000000</td>\n",
       "      <td>1.000000</td>\n",
       "    </tr>\n",
       "  </tbody>\n",
       "</table>\n",
       "</div>"
      ],
      "text/plain": [
       "          feature_0     feature_1     feature_2     feature_3     feature_4  \\\n",
       "count  33908.000000  33908.000000  33908.000000  33908.000000  33908.000000   \n",
       "mean      -0.042743     -0.241770     -0.000213     -0.219161     -0.208568   \n",
       "std        0.934056      0.263976      1.000872      0.526869      0.408655   \n",
       "min       -2.159994     -1.085899     -1.779108     -1.002478     -0.569351   \n",
       "25%       -0.747384     -0.422787     -0.938003     -0.602517     -0.569351   \n",
       "50%       -0.182341     -0.297324      0.023260     -0.303517     -0.246560   \n",
       "75%        0.665225     -0.159381      0.624050      0.026549      0.076230   \n",
       "max        2.737053      0.691269      1.825628      1.490484      1.044601   \n",
       "\n",
       "          feature_7     feature_8     feature_9    feature_10    feature_11  \\\n",
       "count  33908.000000  33908.000000  33908.000000  33908.000000  33908.000000   \n",
       "mean       4.336381      1.171051      1.225345      0.018137      0.555503   \n",
       "std        3.273376      0.606730      0.749104      0.133450      0.496917   \n",
       "min        0.000000      0.000000      0.000000      0.000000      0.000000   \n",
       "25%        1.000000      1.000000      1.000000      0.000000      0.000000   \n",
       "50%        4.000000      1.000000      1.000000      0.000000      1.000000   \n",
       "75%        7.000000      2.000000      2.000000      0.000000      1.000000   \n",
       "max       11.000000      2.000000      3.000000      1.000000      1.000000   \n",
       "\n",
       "         feature_12    feature_13    feature_14    feature_15        labels  \n",
       "count  33908.000000  33908.000000  33908.000000  33908.000000  33908.000000  \n",
       "mean       0.159667      0.639407      5.520497      2.562375      0.116993  \n",
       "std        0.366303      0.897627      3.003241      0.987148      0.321417  \n",
       "min        0.000000      0.000000      0.000000      0.000000      0.000000  \n",
       "25%        0.000000      0.000000      3.000000      3.000000      0.000000  \n",
       "50%        0.000000      0.000000      6.000000      3.000000      0.000000  \n",
       "75%        0.000000      2.000000      8.000000      3.000000      0.000000  \n",
       "max        1.000000      2.000000     11.000000      3.000000      1.000000  "
      ]
     },
     "execution_count": 2,
     "metadata": {},
     "output_type": "execute_result"
    }
   ],
   "source": [
    "# describe the data with basic statistics\n",
    "trainoutliers.describe()"
   ]
  },
  {
   "cell_type": "code",
   "execution_count": 3,
   "id": "ff62de42-19ee-455d-9d12-6adfd3bdda9f",
   "metadata": {},
   "outputs": [
    {
     "data": {
      "text/plain": [
       "feature_0     0\n",
       "feature_1     0\n",
       "feature_2     0\n",
       "feature_3     0\n",
       "feature_4     0\n",
       "feature_7     0\n",
       "feature_8     0\n",
       "feature_9     0\n",
       "feature_10    0\n",
       "feature_11    0\n",
       "feature_12    0\n",
       "feature_13    0\n",
       "feature_14    0\n",
       "feature_15    0\n",
       "labels        0\n",
       "dtype: int64"
      ]
     },
     "execution_count": 3,
     "metadata": {},
     "output_type": "execute_result"
    }
   ],
   "source": [
    "# check for null values\n",
    "trainoutliers.isnull().sum()"
   ]
  },
  {
   "cell_type": "code",
   "execution_count": 4,
   "id": "f20f9a2e-d1fb-4322-8968-71a86c0efd09",
   "metadata": {},
   "outputs": [
    {
     "data": {
      "application/vnd.jupyter.widget-view+json": {
       "model_id": "f55d6965d22d4fef840311dad7b7fc39",
       "version_major": 2,
       "version_minor": 0
      },
      "text/plain": [
       "Summarize dataset:   0%|          | 0/5 [00:00<?, ?it/s]"
      ]
     },
     "metadata": {},
     "output_type": "display_data"
    },
    {
     "data": {
      "application/vnd.jupyter.widget-view+json": {
       "model_id": "e66b5d46f1e54153b2cf0819330d4946",
       "version_major": 2,
       "version_minor": 0
      },
      "text/plain": [
       "Generate report structure:   0%|          | 0/1 [00:00<?, ?it/s]"
      ]
     },
     "metadata": {},
     "output_type": "display_data"
    },
    {
     "data": {
      "application/vnd.jupyter.widget-view+json": {
       "model_id": "000af1530b8441d4a389ac0f3107fbd4",
       "version_major": 2,
       "version_minor": 0
      },
      "text/plain": [
       "Render HTML:   0%|          | 0/1 [00:00<?, ?it/s]"
      ]
     },
     "metadata": {},
     "output_type": "display_data"
    },
    {
     "data": {
      "application/vnd.jupyter.widget-view+json": {
       "model_id": "2f33a4b33b8245f19e57c3fb695c0ee3",
       "version_major": 2,
       "version_minor": 0
      },
      "text/plain": [
       "Export report to file:   0%|          | 0/1 [00:00<?, ?it/s]"
      ]
     },
     "metadata": {},
     "output_type": "display_data"
    }
   ],
   "source": [
    "# use pandas profiling for basic statistics, correlations, and other basic metrics\n",
    "from pandas_profiling import ProfileReport\n",
    "profile = ProfileReport(trainoutliers)\n",
    "profile.to_file(output_file = \"medianchurn.html\")"
   ]
  },
  {
   "cell_type": "code",
   "execution_count": 5,
   "id": "e6303d56-0493-4335-b0e4-a1e55d0b77ef",
   "metadata": {},
   "outputs": [],
   "source": [
    "# dropping features that will no longer be used due to correlation issues\n",
    "#trainoutliers.drop('feature_5', inplace=True, axis=1)"
   ]
  },
  {
   "cell_type": "code",
   "execution_count": 6,
   "id": "287b93fd-1107-47fb-bc3c-a24145411b47",
   "metadata": {},
   "outputs": [],
   "source": [
    "#trainoutliers.drop('feature_6', inplace=True, axis=1)"
   ]
  },
  {
   "cell_type": "code",
   "execution_count": 7,
   "id": "cc1a4758-c956-47aa-8a5e-cc6e34bcfc52",
   "metadata": {},
   "outputs": [],
   "source": [
    "trainoutliers.drop('feature_7', inplace=True, axis=1)"
   ]
  },
  {
   "cell_type": "code",
   "execution_count": 8,
   "id": "9cfb9462-611a-4245-8bac-80791c81e2df",
   "metadata": {},
   "outputs": [],
   "source": [
    "trainoutliers.drop('feature_14', inplace=True, axis=1)"
   ]
  },
  {
   "cell_type": "code",
   "execution_count": 9,
   "id": "7b2ba2a1-3c8e-4852-8b6a-f58bdb6f6636",
   "metadata": {},
   "outputs": [
    {
     "data": {
      "text/plain": [
       "Index(['feature_0', 'feature_1', 'feature_2', 'feature_3', 'feature_4',\n",
       "       'feature_8', 'feature_9', 'feature_10', 'feature_11', 'feature_12',\n",
       "       'feature_13', 'feature_15', 'labels'],\n",
       "      dtype='object')"
      ]
     },
     "execution_count": 9,
     "metadata": {},
     "output_type": "execute_result"
    }
   ],
   "source": [
    "# verifying features were dropped\n",
    "trainoutliers.columns"
   ]
  },
  {
   "cell_type": "code",
   "execution_count": 10,
   "id": "ea3224fc-a814-4645-b3d1-c5bdbce3be86",
   "metadata": {},
   "outputs": [
    {
     "name": "stdout",
     "output_type": "stream",
     "text": [
      "The Dataset features are:  13\n",
      "The selected features with ANOVA(Filter Method are 6\n",
      "They are: \n",
      "['feature_1', 'feature_3', 'feature_11', 'feature_13', 'feature_15', 'labels']\n"
     ]
    },
    {
     "name": "stderr",
     "output_type": "stream",
     "text": [
      "C:\\Users\\13158\\miniconda3\\lib\\site-packages\\sklearn\\feature_selection\\_univariate_selection.py:113: RuntimeWarning: divide by zero encountered in true_divide\n",
      "  f = msb / msw\n",
      "C:\\Users\\13158\\miniconda3\\lib\\site-packages\\sklearn\\feature_selection\\_univariate_selection.py:113: RuntimeWarning: divide by zero encountered in true_divide\n",
      "  f = msb / msw\n"
     ]
    }
   ],
   "source": [
    "# using ANOVA method to determine top features to keep\n",
    "\n",
    "from numpy import set_printoptions\n",
    "from sklearn.feature_selection import SelectKBest\n",
    "from sklearn.feature_selection import f_classif\n",
    "\n",
    " \n",
    "X = trainoutliers\n",
    "y=trainoutliers[\"labels\"]\n",
    "test=SelectKBest(score_func=f_classif, k=6)\n",
    "fit = test.fit(X,y)\n",
    "set_printoptions(precision=10)\n",
    "\n",
    "features = fit.transform(X)\n",
    "ANOVA_features_for_training = test.fit_transform(X,y)\n",
    "ANOVA_support = test.get_support()\n",
    "ANOVA_feature = X.loc[:,ANOVA_support].columns.tolist()\n",
    "print(\"The Dataset features are: \", X.shape[1])\n",
    "print('The selected features with ANOVA(Filter Method are', len(ANOVA_feature))\n",
    "print(\"They are: \")\n",
    "print(ANOVA_feature)"
   ]
  },
  {
   "cell_type": "code",
   "execution_count": 11,
   "id": "af95021d-389e-49a2-8a69-61752f4809ed",
   "metadata": {},
   "outputs": [
    {
     "name": "stdout",
     "output_type": "stream",
     "text": [
      "[0.0095378752 0.0160557202 0.0039797856 0.0697884211 0.0042858169\n",
      " 0.0008193831 0.0042048817 0.0021874378 0.0091682998 0.0014483879\n",
      " 0.0138758045 0.0351564782 0.3609939301]\n"
     ]
    },
    {
     "data": {
      "image/png": "[encoded data removed]",
      "text/plain": [
       "<Figure size 432x288 with 1 Axes>"
      ]
     },
     "metadata": {
      "needs_background": "light"
     },
     "output_type": "display_data"
    }
   ],
   "source": [
    "# verifying features to keep with mutual_info_classif\n",
    "from sklearn.feature_selection import mutual_info_classif\n",
    "\n",
    "res = mutual_info_classif(X,y)\n",
    "feat_importance = pd.Series(res, trainoutliers.columns[0:len(trainoutliers.columns)])\n",
    "feat_importance.plot(kind ='barh')\n",
    "print(res)"
   ]
  },
  {
   "cell_type": "code",
   "execution_count": 12,
   "id": "2c47a660-e79e-4a32-a436-59a9145a7fdf",
   "metadata": {},
   "outputs": [],
   "source": [
    "# dropping remaining features\n",
    "trainoutliers.drop('feature_0', inplace=True, axis=1)\n",
    "trainoutliers.drop('feature_2', inplace=True, axis=1)\n",
    "trainoutliers.drop('feature_8', inplace=True, axis=1)\n",
    "trainoutliers.drop('feature_9', inplace=True, axis=1)\n",
    "trainoutliers.drop('feature_10', inplace=True, axis=1)\n",
    "trainoutliers.drop('feature_12', inplace=True, axis=1)"
   ]
  },
  {
   "cell_type": "code",
   "execution_count": 13,
   "id": "3e7a803a-d34b-4092-95e0-f2e5f3d0cb40",
   "metadata": {},
   "outputs": [
    {
     "data": {
      "text/plain": [
       "Index(['feature_1', 'feature_3', 'feature_4', 'feature_11', 'feature_13',\n",
       "       'feature_15', 'labels'],\n",
       "      dtype='object')"
      ]
     },
     "execution_count": 13,
     "metadata": {},
     "output_type": "execute_result"
    }
   ],
   "source": [
    "# verifying features were dropped\n",
    "trainoutliers.columns"
   ]
  },
  {
   "cell_type": "markdown",
   "id": "c3443b1b-944e-4114-8fbf-733b652debbb",
   "metadata": {},
   "source": [
    "### Creating models \n",
    "\n"
   ]
  },
  {
   "cell_type": "code",
   "execution_count": 14,
   "id": "ceaa5525-12ae-4a8f-841b-bb2fc47bdd64",
   "metadata": {},
   "outputs": [],
   "source": [
    "# splitting into train/test data\n",
    "\n",
    "from sklearn.model_selection import StratifiedShuffleSplit\n",
    "\n",
    "splitter = StratifiedShuffleSplit(n_splits=1, test_size=0.2, random_state=123)\n",
    "for train_indices, test_indices in splitter.split(trainoutliers, trainoutliers['labels']):\n",
    "    train_set = trainoutliers.iloc[train_indices]\n",
    "    test_set = trainoutliers.iloc[test_indices]"
   ]
  },
  {
   "cell_type": "markdown",
   "id": "6514a29c-009a-4f58-9e3b-3dd852169a22",
   "metadata": {},
   "source": [
    "#### Train and Evaluate Decision Tree Model"
   ]
  },
  {
   "cell_type": "code",
   "execution_count": 15,
   "id": "610615e3-0077-4028-b7c8-eb410585a71e",
   "metadata": {},
   "outputs": [
    {
     "name": "stdout",
     "output_type": "stream",
     "text": [
      "Results for decision tree on training data\n",
      "  Default settings\n",
      "Confusion Matrix\n",
      "[[23896    56]\n",
      " [  123  3051]]\n",
      "Accuracy is   0.9934011649340116\n",
      "Precision is  0.9933692954222872\n",
      "Recall is     0.9934011649340116\n",
      "F1 is         0.9933705779672962\n",
      "\n",
      "Results for decision tree on test data\n",
      "  Default settings\n",
      "Confusion Matrix\n",
      "[[5471  518]\n",
      " [ 532  261]]\n",
      "Accuracy is   0.8451784134473607\n",
      "Precision is  0.8439886968428779\n",
      "Recall is     0.8451784134473607\n",
      "F1 is         0.8445793771876515\n"
     ]
    }
   ],
   "source": [
    "from sklearn.tree import DecisionTreeClassifier\n",
    "from sklearn.metrics import confusion_matrix\n",
    "from sklearn.metrics import accuracy_score, f1_score\n",
    "from sklearn.metrics import precision_score, recall_score\n",
    "  \n",
    "\n",
    "X = train_set[['feature_1','feature_3', 'feature_4', 'feature_11','feature_13', 'feature_15' ]]\n",
    "y = train_set['labels']\n",
    "\n",
    "X_test = test_set[['feature_1','feature_3', 'feature_4', 'feature_11','feature_13', 'feature_15' ]]\n",
    "y_test = test_set['labels']\n",
    "\n",
    "tree_model = DecisionTreeClassifier()\n",
    "tree_model.fit(X,y)\n",
    "\n",
    "y_pred = tree_model.predict(X)\n",
    "print('Results for decision tree on training data')\n",
    "print('  Default settings')\n",
    "print(\"Confusion Matrix\")\n",
    "print(confusion_matrix(y, y_pred))\n",
    "print('Accuracy is  ', accuracy_score(y, y_pred))\n",
    "print('Precision is ', precision_score(y, y_pred, average='weighted'))\n",
    "print('Recall is    ', recall_score(y,y_pred, average='weighted'))\n",
    "print('F1 is        ', f1_score(y, y_pred, average='weighted'))\n",
    "print()\n",
    "\n",
    "y_test_pred = tree_model.predict(X_test)\n",
    "print('Results for decision tree on test data')\n",
    "print('  Default settings')\n",
    "print(\"Confusion Matrix\")\n",
    "print(confusion_matrix(y_test, y_test_pred))\n",
    "print('Accuracy is  ', accuracy_score(y_test, y_test_pred))\n",
    "print('Precision is ', precision_score(y_test, y_test_pred, average='weighted'))\n",
    "print('Recall is    ', recall_score(y_test,y_test_pred, average='weighted'))\n",
    "print('F1 is        ', f1_score(y_test, y_test_pred, average='weighted'))\n"
   ]
  },
  {
   "cell_type": "markdown",
   "id": "d7ab20be-d39f-466a-a62d-42085abccda9",
   "metadata": {},
   "source": [
    "#### Train and evaluate SVC model \n",
    "    "
   ]
  },
  {
   "cell_type": "code",
   "execution_count": 16,
   "id": "7466e4a1-4332-465c-b44a-13e6844fcef9",
   "metadata": {},
   "outputs": [
    {
     "name": "stdout",
     "output_type": "stream",
     "text": [
      "Results for svc on training data\n",
      "  Default settings\n",
      "Confusion Matrix\n",
      "[[23695   257]\n",
      " [ 2597   577]]\n",
      "Accuracy is   0.8947872889478728\n",
      "Precision is  0.876725468134368\n",
      "Recall is     0.8947872889478728\n",
      "F1 is         0.8665240188824329\n",
      "\n",
      "Results for svc on test data\n",
      "  Default settings\n",
      "Confusion Matrix\n",
      "[[5927   62]\n",
      " [ 654  139]]\n",
      "Accuracy is   0.894426422884105\n",
      "Precision is  0.8761757911379389\n",
      "Recall is     0.894426422884105\n",
      "F1 is         0.8654740739701515\n"
     ]
    }
   ],
   "source": [
    "from sklearn.svm import SVC\n",
    "from sklearn.metrics import confusion_matrix\n",
    "from sklearn.metrics import accuracy_score, f1_score\n",
    "from sklearn.metrics import precision_score, recall_score\n",
    "  \n",
    "\n",
    "X = train_set[['feature_1','feature_3', 'feature_4', 'feature_11','feature_13', 'feature_15' ]]\n",
    "y = train_set['labels']\n",
    "\n",
    "X_test = test_set[['feature_1','feature_3', 'feature_4', 'feature_11','feature_13', 'feature_15' ]]\n",
    "y_test = test_set['labels']\n",
    "\n",
    "svc_model = SVC()\n",
    "svc_model.fit(X,y)\n",
    "\n",
    "y_pred = svc_model.predict(X)\n",
    "print('Results for svc on training data')\n",
    "print('  Default settings')\n",
    "print(\"Confusion Matrix\")\n",
    "print(confusion_matrix(y, y_pred))\n",
    "print('Accuracy is  ', accuracy_score(y, y_pred))\n",
    "print('Precision is ', precision_score(y, y_pred, average='weighted'))\n",
    "print('Recall is    ', recall_score(y,y_pred, average='weighted'))\n",
    "print('F1 is        ', f1_score(y, y_pred, average='weighted'))\n",
    "print()\n",
    "\n",
    "y_test_pred = svc_model.predict(X_test)\n",
    "print('Results for svc on test data')\n",
    "print('  Default settings')\n",
    "print(\"Confusion Matrix\")\n",
    "print(confusion_matrix(y_test, y_test_pred))\n",
    "print('Accuracy is  ', accuracy_score(y_test, y_test_pred))\n",
    "print('Precision is ', precision_score(y_test, y_test_pred, average='weighted'))\n",
    "print('Recall is    ', recall_score(y_test,y_test_pred, average='weighted'))\n",
    "print('F1 is        ', f1_score(y_test, y_test_pred, average='weighted'))\n"
   ]
  },
  {
   "cell_type": "markdown",
   "id": "978445fe-c5df-4dc8-aa48-1503fb3fe5c2",
   "metadata": {},
   "source": [
    "### Train and evaluate Random Forest Model "
   ]
  },
  {
   "cell_type": "code",
   "execution_count": 48,
   "id": "a9af923f-b6d4-46a1-ab0b-04b05c227dfe",
   "metadata": {},
   "outputs": [
    {
     "name": "stdout",
     "output_type": "stream",
     "text": [
      "Results for random forest on training data\n",
      "  Default settings\n",
      "Confusion Matrix\n",
      "[[23878    74]\n",
      " [  106  3068]]\n",
      "Accuracy is   0.993364299933643\n",
      "Precision is  0.9933417299833849\n",
      "Recall is     0.993364299933643\n",
      "F1 is         0.9933497049069638\n",
      "\n",
      "Results for random forest on test data\n",
      "  Default settings\n",
      "Confusion Matrix\n",
      "[[5722  267]\n",
      " [ 532  261]]\n",
      "Accuracy is   0.8821881450899439\n",
      "Precision is  0.8657529771546998\n",
      "Recall is     0.8821881450899439\n",
      "F1 is         0.8716463061370351\n"
     ]
    }
   ],
   "source": [
    "from sklearn.ensemble import RandomForestClassifier\n",
    "from sklearn.metrics import confusion_matrix\n",
    "from sklearn.metrics import accuracy_score, f1_score\n",
    "from sklearn.metrics import precision_score, recall_score\n",
    "\n",
    "X = train_set[['feature_1','feature_3', 'feature_4', 'feature_11','feature_13', 'feature_15' ]]\n",
    "y = train_set['labels']\n",
    "\n",
    "X_test = test_set[['feature_1','feature_3', 'feature_4', 'feature_11','feature_13', 'feature_15' ]]\n",
    "y_test = test_set['labels']\n",
    "\n",
    "\n",
    "rf_model = RandomForestClassifier(criterion = \"entropy\", n_estimators = 100)\n",
    "rf_model.fit(X, y)\n",
    "rf_model.score(X,y)\n",
    "\n",
    "\n",
    "y_pred = rf_model.predict(X)\n",
    "print('Results for random forest on training data')\n",
    "print('  Default settings')\n",
    "print(\"Confusion Matrix\")\n",
    "print(confusion_matrix(y, y_pred))\n",
    "print('Accuracy is  ', accuracy_score(y, y_pred))\n",
    "print('Precision is ', precision_score(y, y_pred, average='weighted'))\n",
    "print('Recall is    ', recall_score(y,y_pred, average='weighted'))\n",
    "print('F1 is        ', f1_score(y, y_pred, average='weighted'))\n",
    "print()\n",
    "\n",
    "y_test_pred = rf_model.predict(X_test)\n",
    "print('Results for random forest on test data')\n",
    "print('  Default settings')\n",
    "print(\"Confusion Matrix\")\n",
    "print(confusion_matrix(y_test, y_test_pred))\n",
    "print('Accuracy is  ', accuracy_score(y_test, y_test_pred))\n",
    "print('Precision is ', precision_score(y_test, y_test_pred, average='weighted'))\n",
    "print('Recall is    ', recall_score(y_test,y_test_pred, average='weighted'))\n",
    "print('F1 is        ', f1_score(y_test, y_test_pred, average='weighted'))\n"
   ]
  },
  {
   "cell_type": "markdown",
   "id": "ff984f89-c2d7-435f-8277-d68f99c8156b",
   "metadata": {},
   "source": [
    "### Train and evaluate Logistic Regression Model "
   ]
  },
  {
   "cell_type": "code",
   "execution_count": 18,
   "id": "ad1f2fcb-e093-4020-a896-35480d209d41",
   "metadata": {},
   "outputs": [
    {
     "name": "stdout",
     "output_type": "stream",
     "text": [
      "Results for linear regression on training data\n",
      "  Default settings\n",
      "Confusion Matrix\n",
      "[[23808   144]\n",
      " [ 3042   132]]\n",
      "Accuracy is   0.8825481088254811\n",
      "Precision is  0.8389121900405186\n",
      "Recall is     0.8825481088254811\n",
      "F1 is         0.8365683359941706\n",
      "\n",
      "Results for linear regression on test data\n",
      "  Default settings\n",
      "Confusion Matrix\n",
      "[[5963   26]\n",
      " [ 760   33]]\n",
      "Accuracy is   0.8841049837805957\n",
      "Precision is  0.8486460093326407\n",
      "Recall is     0.8841049837805957\n",
      "F1 is         0.837529000208744\n"
     ]
    }
   ],
   "source": [
    "from sklearn.linear_model import LogisticRegression\n",
    "from sklearn.metrics import confusion_matrix\n",
    "from sklearn.metrics import accuracy_score, f1_score\n",
    "from sklearn.metrics import precision_score, recall_score\n",
    "\n",
    "X = train_set[['feature_1','feature_3', 'feature_4', 'feature_11','feature_13', 'feature_15' ]]\n",
    "y = train_set['labels']\n",
    "\n",
    "X_test = test_set[['feature_1','feature_3', 'feature_4', 'feature_11','feature_13', 'feature_15' ]]\n",
    "y_test = test_set['labels']\n",
    "\n",
    "lr_model = LogisticRegression(solver='liblinear', random_state=0)\n",
    "lr_model.fit(X,y)\n",
    "\n",
    "y_pred = lr_model.predict(X)\n",
    "print('Results for linear regression on training data')\n",
    "print('  Default settings')\n",
    "print(\"Confusion Matrix\")\n",
    "print(confusion_matrix(y, y_pred))\n",
    "print('Accuracy is  ', accuracy_score(y, y_pred))\n",
    "print('Precision is ', precision_score(y, y_pred, average='weighted'))\n",
    "print('Recall is    ', recall_score(y,y_pred, average='weighted'))\n",
    "print('F1 is        ', f1_score(y, y_pred, average='weighted'))\n",
    "print()\n",
    "\n",
    "y_test_pred = lr_model.predict(X_test)\n",
    "print('Results for linear regression on test data')\n",
    "print('  Default settings')\n",
    "print(\"Confusion Matrix\")\n",
    "print(confusion_matrix(y_test, y_test_pred))\n",
    "print('Accuracy is  ', accuracy_score(y_test, y_test_pred))\n",
    "print('Precision is ', precision_score(y_test, y_test_pred, average='weighted'))\n",
    "print('Recall is    ', recall_score(y_test,y_test_pred, average='weighted'))\n",
    "print('F1 is        ', f1_score(y_test, y_test_pred, average='weighted'))\n",
    "\n"
   ]
  },
  {
   "cell_type": "markdown",
   "id": "555399e5-3339-44fe-892c-3b0193d5a925",
   "metadata": {},
   "source": [
    "### Train and evaluate XG boost Model "
   ]
  },
  {
   "cell_type": "code",
   "execution_count": 19,
   "id": "fe093dfb-2460-4324-988d-d0a7bf83914f",
   "metadata": {},
   "outputs": [
    {
     "name": "stdout",
     "output_type": "stream",
     "text": [
      "Results for xgboost on training data\n",
      "  Default settings\n",
      "Confusion Matrix\n",
      "[[23505   447]\n",
      " [ 2165  1009]]\n",
      "Accuracy is   0.9037086190370862\n",
      "Precision is  0.8896062876359895\n",
      "Recall is     0.9037086190370862\n",
      "F1 is         0.8875106478315696\n",
      "\n",
      "Results for xg boost on test data\n",
      "  Default settings\n",
      "Confusion Matrix\n",
      "[[5873  116]\n",
      " [ 592  201]]\n",
      "Accuracy is   0.8956060159245061\n",
      "Precision is  0.8763498010939184\n",
      "Recall is     0.8956060159245061\n",
      "F1 is         0.8752174440286592\n"
     ]
    }
   ],
   "source": [
    "import xgboost as xgb\n",
    "from xgboost import XGBClassifier\n",
    "from sklearn.metrics import confusion_matrix\n",
    "from sklearn.metrics import accuracy_score, f1_score\n",
    "from sklearn.metrics import precision_score, recall_score\n",
    "\n",
    "\n",
    "X = train_set[['feature_1','feature_3', 'feature_4', 'feature_11','feature_13', 'feature_15' ]]\n",
    "y = train_set['labels']\n",
    "\n",
    "X_test = test_set[['feature_1','feature_3', 'feature_4', 'feature_11','feature_13', 'feature_15' ]]\n",
    "y_test = test_set['labels']\n",
    "\n",
    "xgb_model = XGBClassifier(learning_rate=0.1, n_estimators=500, max_depth=4, gamma=1)\n",
    "xgb_model.fit(X,y)\n",
    "\n",
    "y_pred = xgb_model.predict(X)\n",
    "print('Results for xgboost on training data')\n",
    "print('  Default settings')\n",
    "print(\"Confusion Matrix\")\n",
    "print(confusion_matrix(y, y_pred))\n",
    "print('Accuracy is  ', accuracy_score(y, y_pred))\n",
    "print('Precision is ', precision_score(y, y_pred, average='weighted'))\n",
    "print('Recall is    ', recall_score(y,y_pred, average='weighted'))\n",
    "print('F1 is        ', f1_score(y, y_pred, average='weighted'))\n",
    "print()\n",
    "\n",
    "y_test_pred = xgb_model.predict(X_test)\n",
    "print('Results for xg boost on test data')\n",
    "print('  Default settings')\n",
    "print(\"Confusion Matrix\")\n",
    "print(confusion_matrix(y_test, y_test_pred))\n",
    "print('Accuracy is  ', accuracy_score(y_test, y_test_pred))\n",
    "print('Precision is ', precision_score(y_test, y_test_pred, average='weighted'))\n",
    "print('Recall is    ', recall_score(y_test,y_test_pred, average='weighted'))\n",
    "print('F1 is        ', f1_score(y_test, y_test_pred, average='weighted'))"
   ]
  },
  {
   "cell_type": "markdown",
   "id": "3181f65b-20bf-4eb6-b848-ed77ddac4afd",
   "metadata": {},
   "source": [
    "### Train and Evaluate Gradient Boosting Classifier"
   ]
  },
  {
   "cell_type": "code",
   "execution_count": 34,
   "id": "3dadab89-2805-4928-963c-26335288557f",
   "metadata": {},
   "outputs": [
    {
     "name": "stdout",
     "output_type": "stream",
     "text": [
      "Results for gradient boosting on training data\n",
      "  Default settings\n",
      "Confusion Matrix\n",
      "[[23488   464]\n",
      " [ 2308   866]]\n",
      "Accuracy is   0.8978102189781022\n",
      "Precision is  0.8801763864247025\n",
      "Recall is     0.8978102189781022\n",
      "F1 is         0.8787851878600975\n",
      "\n",
      "Results for gradient boosting on test data\n",
      "  Default settings\n",
      "Confusion Matrix\n",
      "[[5876  113]\n",
      " [ 598  195]]\n",
      "Accuracy is   0.8951636685343557\n",
      "Precision is  0.8755324218665345\n",
      "Recall is     0.8951636685343557\n",
      "F1 is         0.8741128770622745\n"
     ]
    }
   ],
   "source": [
    "from sklearn.ensemble import GradientBoostingClassifier\n",
    "\n",
    "X = train_set[['feature_1','feature_3', 'feature_4', 'feature_11','feature_13', 'feature_15' ]]\n",
    "y = train_set['labels']\n",
    "\n",
    "X_test = test_set[['feature_1','feature_3', 'feature_4', 'feature_11','feature_13', 'feature_15' ]]\n",
    "y_test = test_set['labels']\n",
    "\n",
    "\n",
    "gb_model = GradientBoostingClassifier( min_samples_split = 135, n_estimators = 150, learning_rate = .05 )\n",
    "gb_model.fit(X,y)\n",
    "\n",
    "y_pred = gb_model.predict(X)\n",
    "print('Results for gradient boosting on training data')\n",
    "print('  Default settings')\n",
    "print(\"Confusion Matrix\")\n",
    "print(confusion_matrix(y, y_pred))\n",
    "print('Accuracy is  ', accuracy_score(y, y_pred))\n",
    "print('Precision is ', precision_score(y, y_pred, average='weighted'))\n",
    "print('Recall is    ', recall_score(y,y_pred, average='weighted'))\n",
    "print('F1 is        ', f1_score(y, y_pred, average='weighted'))\n",
    "print()\n",
    "\n",
    "y_test_pred = gb_model.predict(X_test)\n",
    "print('Results for gradient boosting on test data')\n",
    "print('  Default settings')\n",
    "print(\"Confusion Matrix\")\n",
    "print(confusion_matrix(y_test, y_test_pred))\n",
    "print('Accuracy is  ', accuracy_score(y_test, y_test_pred))\n",
    "print('Precision is ', precision_score(y_test, y_test_pred, average='weighted'))\n",
    "print('Recall is    ', recall_score(y_test,y_test_pred, average='weighted'))\n",
    "print('F1 is        ', f1_score(y_test, y_test_pred, average='weighted'))"
   ]
  },
  {
   "cell_type": "markdown",
   "id": "ac040670-551e-4d7d-88c6-eeed9f404e3b",
   "metadata": {},
   "source": [
    "### Train and Evaluate Ada Boost"
   ]
  },
  {
   "cell_type": "code",
   "execution_count": 47,
   "id": "29e5ce6a-8c8f-4f72-beca-c3271a7d0d09",
   "metadata": {},
   "outputs": [
    {
     "name": "stdout",
     "output_type": "stream",
     "text": [
      "Results for ada boosting on training data\n",
      "  Default settings\n",
      "Confusion Matrix\n",
      "[[23282   670]\n",
      " [ 2152  1022]]\n",
      "Accuracy is   0.8959669689596697\n",
      "Precision is  0.8789556054451051\n",
      "Recall is     0.8959669689596697\n",
      "F1 is         0.8816856388142245\n",
      "\n",
      "Results for ada boosting on test data\n",
      "  Default settings\n",
      "Confusion Matrix\n",
      "[[5841  148]\n",
      " [ 558  235]]\n",
      "Accuracy is   0.8959009141846063\n",
      "Precision is  0.8778117134999331\n",
      "Recall is     0.8959009141846063\n",
      "F1 is         0.8794770499128917\n"
     ]
    }
   ],
   "source": [
    "from sklearn.ensemble import AdaBoostClassifier\n",
    "\n",
    "X = train_set[['feature_1','feature_3', 'feature_4', 'feature_11','feature_13', 'feature_15' ]]\n",
    "y = train_set['labels']\n",
    "\n",
    "X_test = test_set[['feature_1','feature_3', 'feature_4', 'feature_11','feature_13', 'feature_15' ]]\n",
    "y_test = test_set['labels']\n",
    "\n",
    "\n",
    "ab_model = AdaBoostClassifier( n_estimators= 100, learning_rate = 1 , random_state= 10)\n",
    "ab_model.fit(X,y)\n",
    "\n",
    "y_pred = ab_model.predict(X)\n",
    "print('Results for ada boosting on training data')\n",
    "print('  Default settings')\n",
    "print(\"Confusion Matrix\")\n",
    "print(confusion_matrix(y, y_pred))\n",
    "print('Accuracy is  ', accuracy_score(y, y_pred))\n",
    "print('Precision is ', precision_score(y, y_pred, average='weighted'))\n",
    "print('Recall is    ', recall_score(y,y_pred, average='weighted'))\n",
    "print('F1 is        ', f1_score(y, y_pred, average='weighted'))\n",
    "print()\n",
    "\n",
    "y_test_pred = ab_model.predict(X_test)\n",
    "print('Results for ada boosting on test data')\n",
    "print('  Default settings')\n",
    "print(\"Confusion Matrix\")\n",
    "print(confusion_matrix(y_test, y_test_pred))\n",
    "print('Accuracy is  ', accuracy_score(y_test, y_test_pred))\n",
    "print('Precision is ', precision_score(y_test, y_test_pred, average='weighted'))\n",
    "print('Recall is    ', recall_score(y_test,y_test_pred, average='weighted'))\n",
    "print('F1 is        ', f1_score(y_test, y_test_pred, average='weighted'))"
   ]
  },
  {
   "cell_type": "code",
   "execution_count": null,
   "id": "5b3d510d-de7b-45d5-9ecd-29f5c9e6b3ae",
   "metadata": {},
   "outputs": [],
   "source": []
  },
  {
   "cell_type": "code",
   "execution_count": null,
   "id": "d3f44540-ce65-4a19-b959-4b648aebc13f",
   "metadata": {},
   "outputs": [],
   "source": []
  },
  {
   "cell_type": "code",
   "execution_count": null,
   "id": "3ebdfe39-33dd-4868-86fa-ab53994cee89",
   "metadata": {},
   "outputs": [],
   "source": []
  }
 ],
 "metadata": {
  "kernelspec": {
   "display_name": "Python 3 (ipykernel)",
   "language": "python",
   "name": "python3"
  },
  "language_info": {
   "codemirror_mode": {
    "name": "ipython",
    "version": 3
   },
   "file_extension": ".py",
   "mimetype": "text/x-python",
   "name": "python",
   "nbconvert_exporter": "python",
   "pygments_lexer": "ipython3",
   "version": "3.9.7"
  }
 },
 "nbformat": 4,
 "nbformat_minor": 5
}
