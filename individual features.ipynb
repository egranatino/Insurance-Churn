{
 "cells": [
  {
   "cell_type": "code",
   "execution_count": 1,
   "id": "a039d051-9134-46b6-a536-b3de4d9da7d3",
   "metadata": {},
   "outputs": [
    {
     "data": {
      "text/html": [
       "<div>\n",
       "<style scoped>\n",
       "    .dataframe tbody tr th:only-of-type {\n",
       "        vertical-align: middle;\n",
       "    }\n",
       "\n",
       "    .dataframe tbody tr th {\n",
       "        vertical-align: top;\n",
       "    }\n",
       "\n",
       "    .dataframe thead th {\n",
       "        text-align: right;\n",
       "    }\n",
       "</style>\n",
       "<table border=\"1\" class=\"dataframe\">\n",
       "  <thead>\n",
       "    <tr style=\"text-align: right;\">\n",
       "      <th></th>\n",
       "      <th>feature_0</th>\n",
       "      <th>feature_1</th>\n",
       "      <th>feature_2</th>\n",
       "      <th>feature_3</th>\n",
       "      <th>feature_4</th>\n",
       "      <th>feature_5</th>\n",
       "      <th>feature_6</th>\n",
       "      <th>feature_7</th>\n",
       "      <th>feature_8</th>\n",
       "      <th>feature_9</th>\n",
       "      <th>feature_10</th>\n",
       "      <th>feature_11</th>\n",
       "      <th>feature_12</th>\n",
       "      <th>feature_13</th>\n",
       "      <th>feature_14</th>\n",
       "      <th>feature_15</th>\n",
       "      <th>labels</th>\n",
       "    </tr>\n",
       "  </thead>\n",
       "  <tbody>\n",
       "    <tr>\n",
       "      <th>0</th>\n",
       "      <td>-0.276515</td>\n",
       "      <td>-0.424429</td>\n",
       "      <td>1.344997</td>\n",
       "      <td>-0.012283</td>\n",
       "      <td>0.076230</td>\n",
       "      <td>1.076648</td>\n",
       "      <td>0.182198</td>\n",
       "      <td>3</td>\n",
       "      <td>0</td>\n",
       "      <td>1</td>\n",
       "      <td>0</td>\n",
       "      <td>0</td>\n",
       "      <td>0</td>\n",
       "      <td>0</td>\n",
       "      <td>10</td>\n",
       "      <td>2</td>\n",
       "      <td>1</td>\n",
       "    </tr>\n",
       "    <tr>\n",
       "      <th>1</th>\n",
       "      <td>0.853573</td>\n",
       "      <td>0.150991</td>\n",
       "      <td>0.503892</td>\n",
       "      <td>-0.979179</td>\n",
       "      <td>-0.569351</td>\n",
       "      <td>-0.411453</td>\n",
       "      <td>-0.251940</td>\n",
       "      <td>4</td>\n",
       "      <td>1</td>\n",
       "      <td>2</td>\n",
       "      <td>0</td>\n",
       "      <td>1</td>\n",
       "      <td>0</td>\n",
       "      <td>0</td>\n",
       "      <td>0</td>\n",
       "      <td>3</td>\n",
       "      <td>0</td>\n",
       "    </tr>\n",
       "    <tr>\n",
       "      <th>2</th>\n",
       "      <td>0.947747</td>\n",
       "      <td>-0.173832</td>\n",
       "      <td>1.825628</td>\n",
       "      <td>-0.703478</td>\n",
       "      <td>0.076230</td>\n",
       "      <td>-0.411453</td>\n",
       "      <td>-0.251940</td>\n",
       "      <td>6</td>\n",
       "      <td>1</td>\n",
       "      <td>2</td>\n",
       "      <td>0</td>\n",
       "      <td>0</td>\n",
       "      <td>0</td>\n",
       "      <td>0</td>\n",
       "      <td>5</td>\n",
       "      <td>3</td>\n",
       "      <td>0</td>\n",
       "    </tr>\n",
       "    <tr>\n",
       "      <th>3</th>\n",
       "      <td>0.853573</td>\n",
       "      <td>-0.381404</td>\n",
       "      <td>0.984523</td>\n",
       "      <td>-0.039464</td>\n",
       "      <td>-0.569351</td>\n",
       "      <td>-0.411453</td>\n",
       "      <td>-0.251940</td>\n",
       "      <td>4</td>\n",
       "      <td>0</td>\n",
       "      <td>2</td>\n",
       "      <td>0</td>\n",
       "      <td>1</td>\n",
       "      <td>0</td>\n",
       "      <td>0</td>\n",
       "      <td>5</td>\n",
       "      <td>3</td>\n",
       "      <td>0</td>\n",
       "    </tr>\n",
       "    <tr>\n",
       "      <th>4</th>\n",
       "      <td>1.324443</td>\n",
       "      <td>1.590527</td>\n",
       "      <td>-1.178318</td>\n",
       "      <td>-0.097711</td>\n",
       "      <td>-0.246560</td>\n",
       "      <td>-0.411453</td>\n",
       "      <td>-0.251940</td>\n",
       "      <td>0</td>\n",
       "      <td>1</td>\n",
       "      <td>1</td>\n",
       "      <td>0</td>\n",
       "      <td>0</td>\n",
       "      <td>0</td>\n",
       "      <td>0</td>\n",
       "      <td>8</td>\n",
       "      <td>3</td>\n",
       "      <td>0</td>\n",
       "    </tr>\n",
       "  </tbody>\n",
       "</table>\n",
       "</div>"
      ],
      "text/plain": [
       "   feature_0  feature_1  feature_2  feature_3  feature_4  feature_5  \\\n",
       "0  -0.276515  -0.424429   1.344997  -0.012283   0.076230   1.076648   \n",
       "1   0.853573   0.150991   0.503892  -0.979179  -0.569351  -0.411453   \n",
       "2   0.947747  -0.173832   1.825628  -0.703478   0.076230  -0.411453   \n",
       "3   0.853573  -0.381404   0.984523  -0.039464  -0.569351  -0.411453   \n",
       "4   1.324443   1.590527  -1.178318  -0.097711  -0.246560  -0.411453   \n",
       "\n",
       "   feature_6  feature_7  feature_8  feature_9  feature_10  feature_11  \\\n",
       "0   0.182198          3          0          1           0           0   \n",
       "1  -0.251940          4          1          2           0           1   \n",
       "2  -0.251940          6          1          2           0           0   \n",
       "3  -0.251940          4          0          2           0           1   \n",
       "4  -0.251940          0          1          1           0           0   \n",
       "\n",
       "   feature_12  feature_13  feature_14  feature_15  labels  \n",
       "0           0           0          10           2       1  \n",
       "1           0           0           0           3       0  \n",
       "2           0           0           5           3       0  \n",
       "3           0           0           5           3       0  \n",
       "4           0           0           8           3       0  "
      ]
     },
     "execution_count": 1,
     "metadata": {},
     "output_type": "execute_result"
    }
   ],
   "source": [
    "import pandas as pd\n",
    "import numpy as np\n",
    "\n",
    "# read in data and show first rows\n",
    "trainoutliers = pd.read_csv(\"originaltrain.csv\")\n",
    "trainoutliers.head()"
   ]
  },
  {
   "cell_type": "code",
   "execution_count": 2,
   "id": "88fde80c-e943-4d15-83ae-06aa708feb88",
   "metadata": {},
   "outputs": [
    {
     "data": {
      "text/html": [
       "<div>\n",
       "<style scoped>\n",
       "    .dataframe tbody tr th:only-of-type {\n",
       "        vertical-align: middle;\n",
       "    }\n",
       "\n",
       "    .dataframe tbody tr th {\n",
       "        vertical-align: top;\n",
       "    }\n",
       "\n",
       "    .dataframe thead th {\n",
       "        text-align: right;\n",
       "    }\n",
       "</style>\n",
       "<table border=\"1\" class=\"dataframe\">\n",
       "  <thead>\n",
       "    <tr style=\"text-align: right;\">\n",
       "      <th></th>\n",
       "      <th>feature_0</th>\n",
       "      <th>feature_1</th>\n",
       "      <th>feature_2</th>\n",
       "      <th>feature_3</th>\n",
       "      <th>feature_4</th>\n",
       "      <th>feature_5</th>\n",
       "      <th>feature_6</th>\n",
       "      <th>feature_7</th>\n",
       "      <th>feature_8</th>\n",
       "      <th>feature_9</th>\n",
       "      <th>feature_10</th>\n",
       "      <th>feature_11</th>\n",
       "      <th>feature_12</th>\n",
       "      <th>feature_13</th>\n",
       "      <th>feature_14</th>\n",
       "      <th>feature_15</th>\n",
       "      <th>labels</th>\n",
       "    </tr>\n",
       "  </thead>\n",
       "  <tbody>\n",
       "    <tr>\n",
       "      <th>count</th>\n",
       "      <td>33908.000000</td>\n",
       "      <td>33908.000000</td>\n",
       "      <td>33908.000000</td>\n",
       "      <td>33908.000000</td>\n",
       "      <td>33908.000000</td>\n",
       "      <td>33908.000000</td>\n",
       "      <td>33908.000000</td>\n",
       "      <td>33908.000000</td>\n",
       "      <td>33908.000000</td>\n",
       "      <td>33908.000000</td>\n",
       "      <td>33908.000000</td>\n",
       "      <td>33908.000000</td>\n",
       "      <td>33908.000000</td>\n",
       "      <td>33908.000000</td>\n",
       "      <td>33908.000000</td>\n",
       "      <td>33908.000000</td>\n",
       "      <td>33908.000000</td>\n",
       "    </tr>\n",
       "    <tr>\n",
       "      <th>mean</th>\n",
       "      <td>-0.004158</td>\n",
       "      <td>0.002584</td>\n",
       "      <td>-0.000213</td>\n",
       "      <td>-0.000053</td>\n",
       "      <td>-0.000298</td>\n",
       "      <td>-0.004652</td>\n",
       "      <td>-0.007498</td>\n",
       "      <td>4.336381</td>\n",
       "      <td>1.171051</td>\n",
       "      <td>1.225345</td>\n",
       "      <td>0.018137</td>\n",
       "      <td>0.555503</td>\n",
       "      <td>0.159667</td>\n",
       "      <td>0.639407</td>\n",
       "      <td>5.520497</td>\n",
       "      <td>2.562375</td>\n",
       "      <td>0.116993</td>\n",
       "    </tr>\n",
       "    <tr>\n",
       "      <th>std</th>\n",
       "      <td>0.999776</td>\n",
       "      <td>1.014268</td>\n",
       "      <td>1.000872</td>\n",
       "      <td>1.002512</td>\n",
       "      <td>1.003724</td>\n",
       "      <td>0.993984</td>\n",
       "      <td>0.802696</td>\n",
       "      <td>3.273376</td>\n",
       "      <td>0.606730</td>\n",
       "      <td>0.749104</td>\n",
       "      <td>0.133450</td>\n",
       "      <td>0.496917</td>\n",
       "      <td>0.366303</td>\n",
       "      <td>0.897627</td>\n",
       "      <td>3.003241</td>\n",
       "      <td>0.987148</td>\n",
       "      <td>0.321417</td>\n",
       "    </tr>\n",
       "    <tr>\n",
       "      <th>min</th>\n",
       "      <td>-2.159994</td>\n",
       "      <td>-3.081149</td>\n",
       "      <td>-1.779108</td>\n",
       "      <td>-1.002478</td>\n",
       "      <td>-0.569351</td>\n",
       "      <td>-0.411453</td>\n",
       "      <td>-0.251940</td>\n",
       "      <td>0.000000</td>\n",
       "      <td>0.000000</td>\n",
       "      <td>0.000000</td>\n",
       "      <td>0.000000</td>\n",
       "      <td>0.000000</td>\n",
       "      <td>0.000000</td>\n",
       "      <td>0.000000</td>\n",
       "      <td>0.000000</td>\n",
       "      <td>0.000000</td>\n",
       "      <td>0.000000</td>\n",
       "    </tr>\n",
       "    <tr>\n",
       "      <th>25%</th>\n",
       "      <td>-0.747384</td>\n",
       "      <td>-0.422787</td>\n",
       "      <td>-0.938003</td>\n",
       "      <td>-0.602517</td>\n",
       "      <td>-0.569351</td>\n",
       "      <td>-0.411453</td>\n",
       "      <td>-0.251940</td>\n",
       "      <td>1.000000</td>\n",
       "      <td>1.000000</td>\n",
       "      <td>1.000000</td>\n",
       "      <td>0.000000</td>\n",
       "      <td>0.000000</td>\n",
       "      <td>0.000000</td>\n",
       "      <td>0.000000</td>\n",
       "      <td>3.000000</td>\n",
       "      <td>3.000000</td>\n",
       "      <td>0.000000</td>\n",
       "    </tr>\n",
       "    <tr>\n",
       "      <th>50%</th>\n",
       "      <td>-0.182341</td>\n",
       "      <td>-0.297324</td>\n",
       "      <td>0.023260</td>\n",
       "      <td>-0.303517</td>\n",
       "      <td>-0.246560</td>\n",
       "      <td>-0.411453</td>\n",
       "      <td>-0.251940</td>\n",
       "      <td>4.000000</td>\n",
       "      <td>1.000000</td>\n",
       "      <td>1.000000</td>\n",
       "      <td>0.000000</td>\n",
       "      <td>1.000000</td>\n",
       "      <td>0.000000</td>\n",
       "      <td>0.000000</td>\n",
       "      <td>6.000000</td>\n",
       "      <td>3.000000</td>\n",
       "      <td>0.000000</td>\n",
       "    </tr>\n",
       "    <tr>\n",
       "      <th>75%</th>\n",
       "      <td>0.665225</td>\n",
       "      <td>0.022901</td>\n",
       "      <td>0.624050</td>\n",
       "      <td>0.236237</td>\n",
       "      <td>0.076230</td>\n",
       "      <td>-0.411453</td>\n",
       "      <td>-0.251940</td>\n",
       "      <td>7.000000</td>\n",
       "      <td>2.000000</td>\n",
       "      <td>2.000000</td>\n",
       "      <td>0.000000</td>\n",
       "      <td>1.000000</td>\n",
       "      <td>0.000000</td>\n",
       "      <td>2.000000</td>\n",
       "      <td>8.000000</td>\n",
       "      <td>3.000000</td>\n",
       "      <td>0.000000</td>\n",
       "    </tr>\n",
       "    <tr>\n",
       "      <th>max</th>\n",
       "      <td>5.091402</td>\n",
       "      <td>33.094776</td>\n",
       "      <td>1.825628</td>\n",
       "      <td>18.094700</td>\n",
       "      <td>19.443647</td>\n",
       "      <td>8.127648</td>\n",
       "      <td>23.625644</td>\n",
       "      <td>11.000000</td>\n",
       "      <td>2.000000</td>\n",
       "      <td>3.000000</td>\n",
       "      <td>1.000000</td>\n",
       "      <td>1.000000</td>\n",
       "      <td>1.000000</td>\n",
       "      <td>2.000000</td>\n",
       "      <td>11.000000</td>\n",
       "      <td>3.000000</td>\n",
       "      <td>1.000000</td>\n",
       "    </tr>\n",
       "  </tbody>\n",
       "</table>\n",
       "</div>"
      ],
      "text/plain": [
       "          feature_0     feature_1     feature_2     feature_3     feature_4  \\\n",
       "count  33908.000000  33908.000000  33908.000000  33908.000000  33908.000000   \n",
       "mean      -0.004158      0.002584     -0.000213     -0.000053     -0.000298   \n",
       "std        0.999776      1.014268      1.000872      1.002512      1.003724   \n",
       "min       -2.159994     -3.081149     -1.779108     -1.002478     -0.569351   \n",
       "25%       -0.747384     -0.422787     -0.938003     -0.602517     -0.569351   \n",
       "50%       -0.182341     -0.297324      0.023260     -0.303517     -0.246560   \n",
       "75%        0.665225      0.022901      0.624050      0.236237      0.076230   \n",
       "max        5.091402     33.094776      1.825628     18.094700     19.443647   \n",
       "\n",
       "          feature_5     feature_6     feature_7     feature_8     feature_9  \\\n",
       "count  33908.000000  33908.000000  33908.000000  33908.000000  33908.000000   \n",
       "mean      -0.004652     -0.007498      4.336381      1.171051      1.225345   \n",
       "std        0.993984      0.802696      3.273376      0.606730      0.749104   \n",
       "min       -0.411453     -0.251940      0.000000      0.000000      0.000000   \n",
       "25%       -0.411453     -0.251940      1.000000      1.000000      1.000000   \n",
       "50%       -0.411453     -0.251940      4.000000      1.000000      1.000000   \n",
       "75%       -0.411453     -0.251940      7.000000      2.000000      2.000000   \n",
       "max        8.127648     23.625644     11.000000      2.000000      3.000000   \n",
       "\n",
       "         feature_10    feature_11    feature_12    feature_13    feature_14  \\\n",
       "count  33908.000000  33908.000000  33908.000000  33908.000000  33908.000000   \n",
       "mean       0.018137      0.555503      0.159667      0.639407      5.520497   \n",
       "std        0.133450      0.496917      0.366303      0.897627      3.003241   \n",
       "min        0.000000      0.000000      0.000000      0.000000      0.000000   \n",
       "25%        0.000000      0.000000      0.000000      0.000000      3.000000   \n",
       "50%        0.000000      1.000000      0.000000      0.000000      6.000000   \n",
       "75%        0.000000      1.000000      0.000000      2.000000      8.000000   \n",
       "max        1.000000      1.000000      1.000000      2.000000     11.000000   \n",
       "\n",
       "         feature_15        labels  \n",
       "count  33908.000000  33908.000000  \n",
       "mean       2.562375      0.116993  \n",
       "std        0.987148      0.321417  \n",
       "min        0.000000      0.000000  \n",
       "25%        3.000000      0.000000  \n",
       "50%        3.000000      0.000000  \n",
       "75%        3.000000      0.000000  \n",
       "max        3.000000      1.000000  "
      ]
     },
     "execution_count": 2,
     "metadata": {},
     "output_type": "execute_result"
    }
   ],
   "source": [
    "# describe the data with basic statistics\n",
    "trainoutliers.describe()"
   ]
  },
  {
   "cell_type": "code",
   "execution_count": 3,
   "id": "ff62de42-19ee-455d-9d12-6adfd3bdda9f",
   "metadata": {},
   "outputs": [
    {
     "data": {
      "text/plain": [
       "feature_0     0\n",
       "feature_1     0\n",
       "feature_2     0\n",
       "feature_3     0\n",
       "feature_4     0\n",
       "feature_5     0\n",
       "feature_6     0\n",
       "feature_7     0\n",
       "feature_8     0\n",
       "feature_9     0\n",
       "feature_10    0\n",
       "feature_11    0\n",
       "feature_12    0\n",
       "feature_13    0\n",
       "feature_14    0\n",
       "feature_15    0\n",
       "labels        0\n",
       "dtype: int64"
      ]
     },
     "execution_count": 3,
     "metadata": {},
     "output_type": "execute_result"
    }
   ],
   "source": [
    "# check for null values\n",
    "trainoutliers.isnull().sum()"
   ]
  },
  {
   "cell_type": "code",
   "execution_count": 4,
   "id": "f20f9a2e-d1fb-4322-8968-71a86c0efd09",
   "metadata": {},
   "outputs": [
    {
     "data": {
      "application/vnd.jupyter.widget-view+json": {
       "model_id": "0190b9845fcb4b4e8813190088619ea8",
       "version_major": 2,
       "version_minor": 0
      },
      "text/plain": [
       "Summarize dataset:   0%|          | 0/5 [00:00<?, ?it/s]"
      ]
     },
     "metadata": {},
     "output_type": "display_data"
    },
    {
     "data": {
      "application/vnd.jupyter.widget-view+json": {
       "model_id": "c2f3e7501d7343b6866acd647015fae2",
       "version_major": 2,
       "version_minor": 0
      },
      "text/plain": [
       "Generate report structure:   0%|          | 0/1 [00:00<?, ?it/s]"
      ]
     },
     "metadata": {},
     "output_type": "display_data"
    },
    {
     "data": {
      "application/vnd.jupyter.widget-view+json": {
       "model_id": "fd1885547a364709aa99f60b6956530f",
       "version_major": 2,
       "version_minor": 0
      },
      "text/plain": [
       "Render HTML:   0%|          | 0/1 [00:00<?, ?it/s]"
      ]
     },
     "metadata": {},
     "output_type": "display_data"
    },
    {
     "data": {
      "application/vnd.jupyter.widget-view+json": {
       "model_id": "a3cff12ba9314f869d5c7f00b67e440d",
       "version_major": 2,
       "version_minor": 0
      },
      "text/plain": [
       "Export report to file:   0%|          | 0/1 [00:00<?, ?it/s]"
      ]
     },
     "metadata": {},
     "output_type": "display_data"
    }
   ],
   "source": [
    "# use pandas profiling for basic statistics, correlations, and other basic metrics\n",
    "from pandas_profiling import ProfileReport\n",
    "profile = ProfileReport(trainoutliers)\n",
    "profile.to_file(output_file = \"indivfeature.html\")"
   ]
  },
  {
   "cell_type": "code",
   "execution_count": 5,
   "id": "684bb78a-ab49-4654-b5d0-6413744e5f6d",
   "metadata": {},
   "outputs": [
    {
     "data": {
      "image/png": "[encoded data removed]",
      "text/plain": [
       "<Figure size 1440x576 with 2 Axes>"
      ]
     },
     "metadata": {
      "needs_background": "light"
     },
     "output_type": "display_data"
    }
   ],
   "source": [
    "# correlation chart to understand most influential features\n",
    "\n",
    "import sklearn.datasets \n",
    "import matplotlib\n",
    "import matplotlib.pyplot as plt\n",
    "import seaborn as sns\n",
    "%matplotlib inline\n",
    "\n",
    "\n",
    "plt.figure(figsize=(20,8))\n",
    "corr = trainoutliers.corr()\n",
    "ax = sns.heatmap(\n",
    "    corr, annot=True, cmap=plt.cm.Blues \n",
    ")\n",
    "ax.set_xticklabels(\n",
    "    ax.get_xticklabels(),\n",
    "    rotation=45,\n",
    "    horizontalalignment='right'\n",
    ");"
   ]
  },
  {
   "cell_type": "markdown",
   "id": "75e69641-2f64-4047-ac06-d2790c595bb6",
   "metadata": {},
   "source": [
    "### Dropping features"
   ]
  },
  {
   "cell_type": "code",
   "execution_count": 6,
   "id": "e6303d56-0493-4335-b0e4-a1e55d0b77ef",
   "metadata": {},
   "outputs": [
    {
     "data": {
      "text/plain": [
       "Index(['feature_0', 'feature_1', 'feature_2', 'feature_3', 'feature_4',\n",
       "       'feature_8', 'feature_9', 'feature_10', 'feature_11', 'feature_12',\n",
       "       'feature_13', 'feature_15', 'labels'],\n",
       "      dtype='object')"
      ]
     },
     "execution_count": 6,
     "metadata": {},
     "output_type": "execute_result"
    }
   ],
   "source": [
    "# dropping features that will no longer be used due to correlation issues\n",
    "trainoutliers.drop('feature_5', inplace=True, axis=1)\n",
    "trainoutliers.drop('feature_6', inplace=True, axis=1)\n",
    "trainoutliers.drop('feature_7', inplace=True, axis=1)\n",
    "trainoutliers.drop('feature_14', inplace=True, axis=1)\n",
    "\n",
    "# verifying features were dropped\n",
    "trainoutliers.columns\n"
   ]
  },
  {
   "cell_type": "markdown",
   "id": "13f20dd5-3f1f-459e-908b-224bb189552a",
   "metadata": {},
   "source": [
    "### Picking features to keep for model"
   ]
  },
  {
   "cell_type": "code",
   "execution_count": 8,
   "id": "9a180da4",
   "metadata": {},
   "outputs": [
    {
     "name": "stdout",
     "output_type": "stream",
     "text": [
      "The Dataset features are:  13\n",
      "The selected features with ANOVA(Filter Method are 6\n",
      "They are: \n",
      "['feature_3', 'feature_4', 'feature_11', 'feature_13', 'feature_15', 'labels']\n"
     ]
    },
    {
     "name": "stderr",
     "output_type": "stream",
     "text": [
      "C:\\Users\\13158\\miniconda3\\lib\\site-packages\\sklearn\\feature_selection\\_univariate_selection.py:113: RuntimeWarning: divide by zero encountered in true_divide\n",
      "  f = msb / msw\n",
      "C:\\Users\\13158\\miniconda3\\lib\\site-packages\\sklearn\\feature_selection\\_univariate_selection.py:113: RuntimeWarning: divide by zero encountered in true_divide\n",
      "  f = msb / msw\n"
     ]
    }
   ],
   "source": [
    "# using ANOVA method to determine top features to keep\n",
    "\n",
    "from numpy import set_printoptions\n",
    "from sklearn.feature_selection import SelectKBest\n",
    "from sklearn.feature_selection import f_classif\n",
    "\n",
    " \n",
    "X = trainoutliers\n",
    "y=trainoutliers[\"labels\"]\n",
    "test=SelectKBest(score_func=f_classif, k=6)\n",
    "fit = test.fit(X,y)\n",
    "set_printoptions(precision=10)\n",
    "\n",
    "features = fit.transform(X)\n",
    "ANOVA_features_for_training = test.fit_transform(X,y)\n",
    "ANOVA_support = test.get_support()\n",
    "ANOVA_feature = X.loc[:,ANOVA_support].columns.tolist()\n",
    "print(\"The Dataset features are: \", X.shape[1])\n",
    "print('The selected features with ANOVA(Filter Method are', len(ANOVA_feature))\n",
    "print(\"They are: \")\n",
    "print(ANOVA_feature)"
   ]
  },
  {
   "cell_type": "code",
   "execution_count": 9,
   "id": "af95021d-389e-49a2-8a69-61752f4809ed",
   "metadata": {},
   "outputs": [
    {
     "name": "stdout",
     "output_type": "stream",
     "text": [
      "[0.0117614626 0.0200839389 0.00475995   0.0697107343 0.0035979882\n",
      " 0.0063545747 0.0059811113 0.0007484207 0.0098382006 0.\n",
      " 0.0182833291 0.0358439778 0.3609791843]\n"
     ]
    },
    {
     "data": {
      "image/png": "[encoded data removed]",
      "text/plain": [
       "<Figure size 432x288 with 1 Axes>"
      ]
     },
     "metadata": {
      "needs_background": "light"
     },
     "output_type": "display_data"
    }
   ],
   "source": [
    "# verifying features to keep with mutual_info_classif\n",
    "from sklearn.feature_selection import mutual_info_classif\n",
    "\n",
    "res = mutual_info_classif(X,y)\n",
    "feat_importance = pd.Series(res, trainoutliers.columns[0:len(trainoutliers.columns)])\n",
    "feat_importance.plot(kind ='barh')\n",
    "print(res)"
   ]
  },
  {
   "cell_type": "markdown",
   "id": "46eb6950-3531-4b6f-a293-02bdbddb9865",
   "metadata": {},
   "source": [
    "### Visualization of each feature kept and churn"
   ]
  },
  {
   "cell_type": "markdown",
   "id": "723e25ed-3501-466c-8c7c-b86fdf2e21d2",
   "metadata": {},
   "source": [
    "### Dropping remaining features"
   ]
  },
  {
   "cell_type": "code",
   "execution_count": 10,
   "id": "3e7a803a-d34b-4092-95e0-f2e5f3d0cb40",
   "metadata": {},
   "outputs": [
    {
     "data": {
      "text/plain": [
       "Index(['feature_0', 'feature_1', 'feature_2', 'feature_3', 'feature_4',\n",
       "       'feature_8', 'feature_9', 'feature_10', 'feature_11', 'feature_12',\n",
       "       'feature_13', 'feature_15', 'labels'],\n",
       "      dtype='object')"
      ]
     },
     "execution_count": 10,
     "metadata": {},
     "output_type": "execute_result"
    }
   ],
   "source": [
    "# verifying features were dropped\n",
    "trainoutliers.columns"
   ]
  },
  {
   "cell_type": "markdown",
   "id": "4520deb0-6783-4988-b0f1-db8ebb0cc8ac",
   "metadata": {},
   "source": [
    "### Histograms of features kept"
   ]
  },
  {
   "cell_type": "markdown",
   "id": "13aef0aa-480d-4cdd-b63c-bae778a635d7",
   "metadata": {},
   "source": [
    "### Scatter plot of kept features "
   ]
  },
  {
   "cell_type": "markdown",
   "id": "c3443b1b-944e-4114-8fbf-733b652debbb",
   "metadata": {},
   "source": [
    "### Creating models \n",
    "\n"
   ]
  },
  {
   "cell_type": "code",
   "execution_count": 11,
   "id": "ceaa5525-12ae-4a8f-841b-bb2fc47bdd64",
   "metadata": {},
   "outputs": [],
   "source": [
    "# splitting into train/test data\n",
    "\n",
    "from sklearn.model_selection import StratifiedShuffleSplit\n",
    "\n",
    "splitter = StratifiedShuffleSplit(n_splits=1, test_size=0.2, random_state=123)\n",
    "for train_indices, test_indices in splitter.split(trainoutliers, trainoutliers['labels']):\n",
    "    train_set = trainoutliers.iloc[train_indices]\n",
    "    test_set = trainoutliers.iloc[test_indices]"
   ]
  },
  {
   "cell_type": "markdown",
   "id": "6514a29c-009a-4f58-9e3b-3dd852169a22",
   "metadata": {},
   "source": [
    "#### Train and Evaluate Decision Tree Model"
   ]
  },
  {
   "cell_type": "markdown",
   "id": "d7ab20be-d39f-466a-a62d-42085abccda9",
   "metadata": {},
   "source": [
    "#### Train and evaluate SVC model \n",
    "    "
   ]
  },
  {
   "cell_type": "markdown",
   "id": "978445fe-c5df-4dc8-aa48-1503fb3fe5c2",
   "metadata": {},
   "source": [
    "### Train and evaluate Random Forest Model "
   ]
  },
  {
   "cell_type": "markdown",
   "id": "ff984f89-c2d7-435f-8277-d68f99c8156b",
   "metadata": {},
   "source": [
    "### Train and evaluate Logistic Regression Model "
   ]
  },
  {
   "cell_type": "markdown",
   "id": "555399e5-3339-44fe-892c-3b0193d5a925",
   "metadata": {},
   "source": [
    "### Train and evaluate XG boost Model "
   ]
  },
  {
   "cell_type": "markdown",
   "id": "86373612-abcd-4515-8aba-8fa7cf02d9a1",
   "metadata": {},
   "source": [
    "### Train and Evaluate Gradient Boosting Classifier Feature 1"
   ]
  },
  {
   "cell_type": "code",
   "execution_count": 18,
   "id": "6da31472-4f89-456b-b9c2-51490acfabb7",
   "metadata": {},
   "outputs": [
    {
     "name": "stdout",
     "output_type": "stream",
     "text": [
      "Results for gradient boosting on training data\n",
      "  Default settings\n",
      "Confusion Matrix\n",
      "[[23952     0]\n",
      " [ 3173     1]]\n",
      "Accuracy is   0.8830273538302735\n",
      "Precision is  0.8967104582098695\n",
      "Recall is     0.8830273538302735\n",
      "F1 is         0.8282111537099459\n",
      "\n",
      "Results for gradient boosting on test data\n",
      "  Default settings\n",
      "Confusion Matrix\n",
      "[[5989    0]\n",
      " [ 793    0]]\n",
      "Accuracy is   0.8830728398702448\n",
      "Precision is  0.7798176405164989\n",
      "Recall is     0.8830728398702448\n",
      "F1 is         0.8282394860203424\n"
     ]
    },
    {
     "name": "stderr",
     "output_type": "stream",
     "text": [
      "C:\\Users\\13158\\miniconda3\\lib\\site-packages\\sklearn\\metrics\\_classification.py:1327: UndefinedMetricWarning: Precision is ill-defined and being set to 0.0 in labels with no predicted samples. Use `zero_division` parameter to control this behavior.\n",
      "  _warn_prf(average, modifier, msg_start, len(result))\n"
     ]
    }
   ],
   "source": [
    "from sklearn.ensemble import GradientBoostingClassifier\n",
    "from sklearn.metrics import confusion_matrix\n",
    "from sklearn.metrics import accuracy_score, f1_score\n",
    "from sklearn.metrics import precision_score, recall_score\n",
    "\n",
    "X = train_set[['feature_1']]\n",
    "y = train_set['labels']\n",
    "\n",
    "X_test = test_set[['feature_1']]\n",
    "y_test = test_set['labels']\n",
    "\n",
    "\n",
    "gb_model = GradientBoostingClassifier( min_samples_split = 135, n_estimators = 150, learning_rate = .05 )\n",
    "gb_model.fit(X,y)\n",
    "\n",
    "y_pred = gb_model.predict(X)\n",
    "print('Results for gradient boosting on training data')\n",
    "print('  Default settings')\n",
    "print(\"Confusion Matrix\")\n",
    "print(confusion_matrix(y, y_pred))\n",
    "print('Accuracy is  ', accuracy_score(y, y_pred))\n",
    "print('Precision is ', precision_score(y, y_pred, average='weighted'))\n",
    "print('Recall is    ', recall_score(y,y_pred, average='weighted'))\n",
    "print('F1 is        ', f1_score(y, y_pred, average='weighted'))\n",
    "print()\n",
    "\n",
    "y_test_pred = gb_model.predict(X_test)\n",
    "print('Results for gradient boosting on test data')\n",
    "print('  Default settings')\n",
    "print(\"Confusion Matrix\")\n",
    "print(confusion_matrix(y_test, y_test_pred))\n",
    "print('Accuracy is  ', accuracy_score(y_test, y_test_pred))\n",
    "print('Precision is ', precision_score(y_test, y_test_pred, average='weighted'))\n",
    "print('Recall is    ', recall_score(y_test,y_test_pred, average='weighted'))\n",
    "print('F1 is        ', f1_score(y_test, y_test_pred, average='weighted'))"
   ]
  },
  {
   "cell_type": "markdown",
   "id": "08269854-f4a7-466f-a778-ed54e5bfc804",
   "metadata": {},
   "source": [
    "### Train and Evaluate Ada Boost"
   ]
  },
  {
   "cell_type": "markdown",
   "id": "0bd6b9a3",
   "metadata": {},
   "source": [
    "### Train and Evaluate Gradient Boosting Classifier Feature 2"
   ]
  },
  {
   "cell_type": "code",
   "execution_count": 19,
   "id": "95cdbd01",
   "metadata": {},
   "outputs": [
    {
     "name": "stdout",
     "output_type": "stream",
     "text": [
      "Results for gradient boosting on training data\n",
      "  Default settings\n",
      "Confusion Matrix\n",
      "[[23952     0]\n",
      " [ 3174     0]]\n",
      "Accuracy is   0.8829904888299049\n",
      "Precision is  0.7796722033640744\n",
      "Recall is     0.8829904888299049\n",
      "F1 is         0.8281212337387479\n",
      "\n",
      "Results for gradient boosting on test data\n",
      "  Default settings\n",
      "Confusion Matrix\n",
      "[[5989    0]\n",
      " [ 793    0]]\n",
      "Accuracy is   0.8830728398702448\n",
      "Precision is  0.7798176405164989\n",
      "Recall is     0.8830728398702448\n",
      "F1 is         0.8282394860203424\n"
     ]
    },
    {
     "name": "stderr",
     "output_type": "stream",
     "text": [
      "C:\\Users\\13158\\miniconda3\\lib\\site-packages\\sklearn\\metrics\\_classification.py:1327: UndefinedMetricWarning: Precision is ill-defined and being set to 0.0 in labels with no predicted samples. Use `zero_division` parameter to control this behavior.\n",
      "  _warn_prf(average, modifier, msg_start, len(result))\n",
      "C:\\Users\\13158\\miniconda3\\lib\\site-packages\\sklearn\\metrics\\_classification.py:1327: UndefinedMetricWarning: Precision is ill-defined and being set to 0.0 in labels with no predicted samples. Use `zero_division` parameter to control this behavior.\n",
      "  _warn_prf(average, modifier, msg_start, len(result))\n"
     ]
    }
   ],
   "source": [
    "from sklearn.ensemble import GradientBoostingClassifier\n",
    "\n",
    "X = train_set[['feature_2']]\n",
    "y = train_set['labels']\n",
    "\n",
    "X_test = test_set[['feature_2']]\n",
    "y_test = test_set['labels']\n",
    "\n",
    "\n",
    "gb_model = GradientBoostingClassifier( min_samples_split = 135, n_estimators = 150, learning_rate = .05 )\n",
    "gb_model.fit(X,y)\n",
    "\n",
    "y_pred = gb_model.predict(X)\n",
    "print('Results for gradient boosting on training data')\n",
    "print('  Default settings')\n",
    "print(\"Confusion Matrix\")\n",
    "print(confusion_matrix(y, y_pred))\n",
    "print('Accuracy is  ', accuracy_score(y, y_pred))\n",
    "print('Precision is ', precision_score(y, y_pred, average='weighted'))\n",
    "print('Recall is    ', recall_score(y,y_pred, average='weighted'))\n",
    "print('F1 is        ', f1_score(y, y_pred, average='weighted'))\n",
    "print()\n",
    "\n",
    "y_test_pred = gb_model.predict(X_test)\n",
    "print('Results for gradient boosting on test data')\n",
    "print('  Default settings')\n",
    "print(\"Confusion Matrix\")\n",
    "print(confusion_matrix(y_test, y_test_pred))\n",
    "print('Accuracy is  ', accuracy_score(y_test, y_test_pred))\n",
    "print('Precision is ', precision_score(y_test, y_test_pred, average='weighted'))\n",
    "print('Recall is    ', recall_score(y_test,y_test_pred, average='weighted'))\n",
    "print('F1 is        ', f1_score(y_test, y_test_pred, average='weighted'))"
   ]
  },
  {
   "cell_type": "markdown",
   "id": "b409c427",
   "metadata": {},
   "source": [
    "### Train and Evaluate Gradient Boosting Classifier Feature 3"
   ]
  },
  {
   "cell_type": "code",
   "execution_count": 20,
   "id": "8c60d96c",
   "metadata": {},
   "outputs": [
    {
     "name": "stdout",
     "output_type": "stream",
     "text": [
      "Results for gradient boosting on training data\n",
      "  Default settings\n",
      "Confusion Matrix\n",
      "[[23567   385]\n",
      " [ 2555   619]]\n",
      "Accuracy is   0.891616898916169\n",
      "Precision is  0.868765272524916\n",
      "Recall is     0.891616898916169\n",
      "F1 is         0.8658189352113668\n",
      "\n",
      "Results for gradient boosting on test data\n",
      "  Default settings\n",
      "Confusion Matrix\n",
      "[[5893   96]\n",
      " [ 676  117]]\n",
      "Accuracy is   0.8861692716012975\n",
      "Precision is  0.856425531574965\n",
      "Recall is     0.8861692716012975\n",
      "F1 is         0.8559839203710516\n"
     ]
    }
   ],
   "source": [
    "from sklearn.ensemble import GradientBoostingClassifier\n",
    "\n",
    "X = train_set[['feature_3']]\n",
    "y = train_set['labels']\n",
    "\n",
    "X_test = test_set[['feature_3']]\n",
    "y_test = test_set['labels']\n",
    "\n",
    "\n",
    "gb_model = GradientBoostingClassifier( min_samples_split = 135, n_estimators = 150, learning_rate = .05 )\n",
    "gb_model.fit(X,y)\n",
    "\n",
    "y_pred = gb_model.predict(X)\n",
    "print('Results for gradient boosting on training data')\n",
    "print('  Default settings')\n",
    "print(\"Confusion Matrix\")\n",
    "print(confusion_matrix(y, y_pred))\n",
    "print('Accuracy is  ', accuracy_score(y, y_pred))\n",
    "print('Precision is ', precision_score(y, y_pred, average='weighted'))\n",
    "print('Recall is    ', recall_score(y,y_pred, average='weighted'))\n",
    "print('F1 is        ', f1_score(y, y_pred, average='weighted'))\n",
    "print()\n",
    "\n",
    "y_test_pred = gb_model.predict(X_test)\n",
    "print('Results for gradient boosting on test data')\n",
    "print('  Default settings')\n",
    "print(\"Confusion Matrix\")\n",
    "print(confusion_matrix(y_test, y_test_pred))\n",
    "print('Accuracy is  ', accuracy_score(y_test, y_test_pred))\n",
    "print('Precision is ', precision_score(y_test, y_test_pred, average='weighted'))\n",
    "print('Recall is    ', recall_score(y_test,y_test_pred, average='weighted'))\n",
    "print('F1 is        ', f1_score(y_test, y_test_pred, average='weighted'))"
   ]
  },
  {
   "cell_type": "markdown",
   "id": "1adf55a1",
   "metadata": {},
   "source": [
    "### Train and Evaluate Gradient Boosting Classifier Feature 4"
   ]
  },
  {
   "cell_type": "code",
   "execution_count": 21,
   "id": "c1752ad3",
   "metadata": {},
   "outputs": [
    {
     "name": "stdout",
     "output_type": "stream",
     "text": [
      "Results for gradient boosting on training data\n",
      "  Default settings\n",
      "Confusion Matrix\n",
      "[[23952     0]\n",
      " [ 3174     0]]\n",
      "Accuracy is   0.8829904888299049\n",
      "Precision is  0.7796722033640744\n",
      "Recall is     0.8829904888299049\n",
      "F1 is         0.8281212337387479\n",
      "\n",
      "Results for gradient boosting on test data\n",
      "  Default settings\n",
      "Confusion Matrix\n",
      "[[5989    0]\n",
      " [ 793    0]]\n",
      "Accuracy is   0.8830728398702448\n",
      "Precision is  0.7798176405164989\n",
      "Recall is     0.8830728398702448\n",
      "F1 is         0.8282394860203424\n"
     ]
    },
    {
     "name": "stderr",
     "output_type": "stream",
     "text": [
      "C:\\Users\\13158\\miniconda3\\lib\\site-packages\\sklearn\\metrics\\_classification.py:1327: UndefinedMetricWarning: Precision is ill-defined and being set to 0.0 in labels with no predicted samples. Use `zero_division` parameter to control this behavior.\n",
      "  _warn_prf(average, modifier, msg_start, len(result))\n",
      "C:\\Users\\13158\\miniconda3\\lib\\site-packages\\sklearn\\metrics\\_classification.py:1327: UndefinedMetricWarning: Precision is ill-defined and being set to 0.0 in labels with no predicted samples. Use `zero_division` parameter to control this behavior.\n",
      "  _warn_prf(average, modifier, msg_start, len(result))\n"
     ]
    }
   ],
   "source": [
    "from sklearn.ensemble import GradientBoostingClassifier\n",
    "\n",
    "X = train_set[['feature_4']]\n",
    "y = train_set['labels']\n",
    "\n",
    "X_test = test_set[['feature_4']]\n",
    "y_test = test_set['labels']\n",
    "\n",
    "\n",
    "gb_model = GradientBoostingClassifier( min_samples_split = 135, n_estimators = 150, learning_rate = .05 )\n",
    "gb_model.fit(X,y)\n",
    "\n",
    "y_pred = gb_model.predict(X)\n",
    "print('Results for gradient boosting on training data')\n",
    "print('  Default settings')\n",
    "print(\"Confusion Matrix\")\n",
    "print(confusion_matrix(y, y_pred))\n",
    "print('Accuracy is  ', accuracy_score(y, y_pred))\n",
    "print('Precision is ', precision_score(y, y_pred, average='weighted'))\n",
    "print('Recall is    ', recall_score(y,y_pred, average='weighted'))\n",
    "print('F1 is        ', f1_score(y, y_pred, average='weighted'))\n",
    "print()\n",
    "\n",
    "y_test_pred = gb_model.predict(X_test)\n",
    "print('Results for gradient boosting on test data')\n",
    "print('  Default settings')\n",
    "print(\"Confusion Matrix\")\n",
    "print(confusion_matrix(y_test, y_test_pred))\n",
    "print('Accuracy is  ', accuracy_score(y_test, y_test_pred))\n",
    "print('Precision is ', precision_score(y_test, y_test_pred, average='weighted'))\n",
    "print('Recall is    ', recall_score(y_test,y_test_pred, average='weighted'))\n",
    "print('F1 is        ', f1_score(y_test, y_test_pred, average='weighted'))"
   ]
  },
  {
   "cell_type": "markdown",
   "id": "1e1bfe4f",
   "metadata": {},
   "source": [
    "### Train and Evaluate Gradient Boosting Classifier Feature 8"
   ]
  },
  {
   "cell_type": "code",
   "execution_count": 22,
   "id": "112bb658",
   "metadata": {},
   "outputs": [
    {
     "name": "stdout",
     "output_type": "stream",
     "text": [
      "Results for gradient boosting on training data\n",
      "  Default settings\n",
      "Confusion Matrix\n",
      "[[23952     0]\n",
      " [ 3174     0]]\n",
      "Accuracy is   0.8829904888299049\n",
      "Precision is  0.7796722033640744\n",
      "Recall is     0.8829904888299049\n",
      "F1 is         0.8281212337387479\n",
      "\n",
      "Results for gradient boosting on test data\n",
      "  Default settings\n",
      "Confusion Matrix\n",
      "[[5989    0]\n",
      " [ 793    0]]\n",
      "Accuracy is   0.8830728398702448\n",
      "Precision is  0.7798176405164989\n",
      "Recall is     0.8830728398702448\n",
      "F1 is         0.8282394860203424\n"
     ]
    },
    {
     "name": "stderr",
     "output_type": "stream",
     "text": [
      "C:\\Users\\13158\\miniconda3\\lib\\site-packages\\sklearn\\metrics\\_classification.py:1327: UndefinedMetricWarning: Precision is ill-defined and being set to 0.0 in labels with no predicted samples. Use `zero_division` parameter to control this behavior.\n",
      "  _warn_prf(average, modifier, msg_start, len(result))\n",
      "C:\\Users\\13158\\miniconda3\\lib\\site-packages\\sklearn\\metrics\\_classification.py:1327: UndefinedMetricWarning: Precision is ill-defined and being set to 0.0 in labels with no predicted samples. Use `zero_division` parameter to control this behavior.\n",
      "  _warn_prf(average, modifier, msg_start, len(result))\n"
     ]
    }
   ],
   "source": [
    "from sklearn.ensemble import GradientBoostingClassifier\n",
    "\n",
    "X = train_set[['feature_8']]\n",
    "y = train_set['labels']\n",
    "\n",
    "X_test = test_set[['feature_8']]\n",
    "y_test = test_set['labels']\n",
    "\n",
    "\n",
    "gb_model = GradientBoostingClassifier( min_samples_split = 135, n_estimators = 150, learning_rate = .05 )\n",
    "gb_model.fit(X,y)\n",
    "\n",
    "y_pred = gb_model.predict(X)\n",
    "print('Results for gradient boosting on training data')\n",
    "print('  Default settings')\n",
    "print(\"Confusion Matrix\")\n",
    "print(confusion_matrix(y, y_pred))\n",
    "print('Accuracy is  ', accuracy_score(y, y_pred))\n",
    "print('Precision is ', precision_score(y, y_pred, average='weighted'))\n",
    "print('Recall is    ', recall_score(y,y_pred, average='weighted'))\n",
    "print('F1 is        ', f1_score(y, y_pred, average='weighted'))\n",
    "print()\n",
    "\n",
    "y_test_pred = gb_model.predict(X_test)\n",
    "print('Results for gradient boosting on test data')\n",
    "print('  Default settings')\n",
    "print(\"Confusion Matrix\")\n",
    "print(confusion_matrix(y_test, y_test_pred))\n",
    "print('Accuracy is  ', accuracy_score(y_test, y_test_pred))\n",
    "print('Precision is ', precision_score(y_test, y_test_pred, average='weighted'))\n",
    "print('Recall is    ', recall_score(y_test,y_test_pred, average='weighted'))\n",
    "print('F1 is        ', f1_score(y_test, y_test_pred, average='weighted'))"
   ]
  },
  {
   "cell_type": "markdown",
   "id": "c6c4e841",
   "metadata": {},
   "source": [
    "### Train and Evaluate Gradient Boosting Classifier Feature 9"
   ]
  },
  {
   "cell_type": "code",
   "execution_count": 23,
   "id": "eafa37ed",
   "metadata": {},
   "outputs": [
    {
     "name": "stdout",
     "output_type": "stream",
     "text": [
      "Results for gradient boosting on training data\n",
      "  Default settings\n",
      "Confusion Matrix\n",
      "[[23952     0]\n",
      " [ 3174     0]]\n",
      "Accuracy is   0.8829904888299049\n",
      "Precision is  0.7796722033640744\n",
      "Recall is     0.8829904888299049\n",
      "F1 is         0.8281212337387479\n",
      "\n",
      "Results for gradient boosting on test data\n",
      "  Default settings\n",
      "Confusion Matrix\n",
      "[[5989    0]\n",
      " [ 793    0]]\n",
      "Accuracy is   0.8830728398702448\n",
      "Precision is  0.7798176405164989\n",
      "Recall is     0.8830728398702448\n",
      "F1 is         0.8282394860203424\n"
     ]
    },
    {
     "name": "stderr",
     "output_type": "stream",
     "text": [
      "C:\\Users\\13158\\miniconda3\\lib\\site-packages\\sklearn\\metrics\\_classification.py:1327: UndefinedMetricWarning: Precision is ill-defined and being set to 0.0 in labels with no predicted samples. Use `zero_division` parameter to control this behavior.\n",
      "  _warn_prf(average, modifier, msg_start, len(result))\n",
      "C:\\Users\\13158\\miniconda3\\lib\\site-packages\\sklearn\\metrics\\_classification.py:1327: UndefinedMetricWarning: Precision is ill-defined and being set to 0.0 in labels with no predicted samples. Use `zero_division` parameter to control this behavior.\n",
      "  _warn_prf(average, modifier, msg_start, len(result))\n"
     ]
    }
   ],
   "source": [
    "from sklearn.ensemble import GradientBoostingClassifier\n",
    "\n",
    "X = train_set[['feature_9']]\n",
    "y = train_set['labels']\n",
    "\n",
    "X_test = test_set[['feature_9']]\n",
    "y_test = test_set['labels']\n",
    "\n",
    "\n",
    "gb_model = GradientBoostingClassifier( min_samples_split = 135, n_estimators = 150, learning_rate = .05 )\n",
    "gb_model.fit(X,y)\n",
    "\n",
    "y_pred = gb_model.predict(X)\n",
    "print('Results for gradient boosting on training data')\n",
    "print('  Default settings')\n",
    "print(\"Confusion Matrix\")\n",
    "print(confusion_matrix(y, y_pred))\n",
    "print('Accuracy is  ', accuracy_score(y, y_pred))\n",
    "print('Precision is ', precision_score(y, y_pred, average='weighted'))\n",
    "print('Recall is    ', recall_score(y,y_pred, average='weighted'))\n",
    "print('F1 is        ', f1_score(y, y_pred, average='weighted'))\n",
    "print()\n",
    "\n",
    "y_test_pred = gb_model.predict(X_test)\n",
    "print('Results for gradient boosting on test data')\n",
    "print('  Default settings')\n",
    "print(\"Confusion Matrix\")\n",
    "print(confusion_matrix(y_test, y_test_pred))\n",
    "print('Accuracy is  ', accuracy_score(y_test, y_test_pred))\n",
    "print('Precision is ', precision_score(y_test, y_test_pred, average='weighted'))\n",
    "print('Recall is    ', recall_score(y_test,y_test_pred, average='weighted'))\n",
    "print('F1 is        ', f1_score(y_test, y_test_pred, average='weighted'))"
   ]
  },
  {
   "cell_type": "markdown",
   "id": "60c0db36",
   "metadata": {},
   "source": [
    "### Train and Evaluate Gradient Boosting Classifier Feature 10"
   ]
  },
  {
   "cell_type": "code",
   "execution_count": 24,
   "id": "88da1894",
   "metadata": {},
   "outputs": [
    {
     "name": "stdout",
     "output_type": "stream",
     "text": [
      "Results for gradient boosting on training data\n",
      "  Default settings\n",
      "Confusion Matrix\n",
      "[[23952     0]\n",
      " [ 3174     0]]\n",
      "Accuracy is   0.8829904888299049\n",
      "Precision is  0.7796722033640744\n",
      "Recall is     0.8829904888299049\n",
      "F1 is         0.8281212337387479\n",
      "\n",
      "Results for gradient boosting on test data\n",
      "  Default settings\n",
      "Confusion Matrix\n",
      "[[5989    0]\n",
      " [ 793    0]]\n",
      "Accuracy is   0.8830728398702448\n",
      "Precision is  0.7798176405164989\n",
      "Recall is     0.8830728398702448\n",
      "F1 is         0.8282394860203424\n"
     ]
    },
    {
     "name": "stderr",
     "output_type": "stream",
     "text": [
      "C:\\Users\\13158\\miniconda3\\lib\\site-packages\\sklearn\\metrics\\_classification.py:1327: UndefinedMetricWarning: Precision is ill-defined and being set to 0.0 in labels with no predicted samples. Use `zero_division` parameter to control this behavior.\n",
      "  _warn_prf(average, modifier, msg_start, len(result))\n",
      "C:\\Users\\13158\\miniconda3\\lib\\site-packages\\sklearn\\metrics\\_classification.py:1327: UndefinedMetricWarning: Precision is ill-defined and being set to 0.0 in labels with no predicted samples. Use `zero_division` parameter to control this behavior.\n",
      "  _warn_prf(average, modifier, msg_start, len(result))\n"
     ]
    }
   ],
   "source": [
    "from sklearn.ensemble import GradientBoostingClassifier\n",
    "\n",
    "X = train_set[['feature_10']]\n",
    "y = train_set['labels']\n",
    "\n",
    "X_test = test_set[['feature_10']]\n",
    "y_test = test_set['labels']\n",
    "\n",
    "\n",
    "gb_model = GradientBoostingClassifier( min_samples_split = 135, n_estimators = 150, learning_rate = .05 )\n",
    "gb_model.fit(X,y)\n",
    "\n",
    "y_pred = gb_model.predict(X)\n",
    "print('Results for gradient boosting on training data')\n",
    "print('  Default settings')\n",
    "print(\"Confusion Matrix\")\n",
    "print(confusion_matrix(y, y_pred))\n",
    "print('Accuracy is  ', accuracy_score(y, y_pred))\n",
    "print('Precision is ', precision_score(y, y_pred, average='weighted'))\n",
    "print('Recall is    ', recall_score(y,y_pred, average='weighted'))\n",
    "print('F1 is        ', f1_score(y, y_pred, average='weighted'))\n",
    "print()\n",
    "\n",
    "y_test_pred = gb_model.predict(X_test)\n",
    "print('Results for gradient boosting on test data')\n",
    "print('  Default settings')\n",
    "print(\"Confusion Matrix\")\n",
    "print(confusion_matrix(y_test, y_test_pred))\n",
    "print('Accuracy is  ', accuracy_score(y_test, y_test_pred))\n",
    "print('Precision is ', precision_score(y_test, y_test_pred, average='weighted'))\n",
    "print('Recall is    ', recall_score(y_test,y_test_pred, average='weighted'))\n",
    "print('F1 is        ', f1_score(y_test, y_test_pred, average='weighted'))"
   ]
  },
  {
   "cell_type": "markdown",
   "id": "8c6db82a",
   "metadata": {},
   "source": [
    "### Train and Evaluate Gradient Boosting Classifier Feature 11"
   ]
  },
  {
   "cell_type": "code",
   "execution_count": 25,
   "id": "f2a89948",
   "metadata": {},
   "outputs": [
    {
     "name": "stdout",
     "output_type": "stream",
     "text": [
      "Results for gradient boosting on training data\n",
      "  Default settings\n",
      "Confusion Matrix\n",
      "[[23952     0]\n",
      " [ 3174     0]]\n",
      "Accuracy is   0.8829904888299049\n",
      "Precision is  0.7796722033640744\n",
      "Recall is     0.8829904888299049\n",
      "F1 is         0.8281212337387479\n",
      "\n",
      "Results for gradient boosting on test data\n",
      "  Default settings\n",
      "Confusion Matrix\n",
      "[[5989    0]\n",
      " [ 793    0]]\n",
      "Accuracy is   0.8830728398702448\n",
      "Precision is  0.7798176405164989\n",
      "Recall is     0.8830728398702448\n",
      "F1 is         0.8282394860203424\n"
     ]
    },
    {
     "name": "stderr",
     "output_type": "stream",
     "text": [
      "C:\\Users\\13158\\miniconda3\\lib\\site-packages\\sklearn\\metrics\\_classification.py:1327: UndefinedMetricWarning: Precision is ill-defined and being set to 0.0 in labels with no predicted samples. Use `zero_division` parameter to control this behavior.\n",
      "  _warn_prf(average, modifier, msg_start, len(result))\n",
      "C:\\Users\\13158\\miniconda3\\lib\\site-packages\\sklearn\\metrics\\_classification.py:1327: UndefinedMetricWarning: Precision is ill-defined and being set to 0.0 in labels with no predicted samples. Use `zero_division` parameter to control this behavior.\n",
      "  _warn_prf(average, modifier, msg_start, len(result))\n"
     ]
    }
   ],
   "source": [
    "from sklearn.ensemble import GradientBoostingClassifier\n",
    "\n",
    "X = train_set[['feature_11']]\n",
    "y = train_set['labels']\n",
    "\n",
    "X_test = test_set[['feature_11']]\n",
    "y_test = test_set['labels']\n",
    "\n",
    "\n",
    "gb_model = GradientBoostingClassifier( min_samples_split = 135, n_estimators = 150, learning_rate = .05 )\n",
    "gb_model.fit(X,y)\n",
    "\n",
    "y_pred = gb_model.predict(X)\n",
    "print('Results for gradient boosting on training data')\n",
    "print('  Default settings')\n",
    "print(\"Confusion Matrix\")\n",
    "print(confusion_matrix(y, y_pred))\n",
    "print('Accuracy is  ', accuracy_score(y, y_pred))\n",
    "print('Precision is ', precision_score(y, y_pred, average='weighted'))\n",
    "print('Recall is    ', recall_score(y,y_pred, average='weighted'))\n",
    "print('F1 is        ', f1_score(y, y_pred, average='weighted'))\n",
    "print()\n",
    "\n",
    "y_test_pred = gb_model.predict(X_test)\n",
    "print('Results for gradient boosting on test data')\n",
    "print('  Default settings')\n",
    "print(\"Confusion Matrix\")\n",
    "print(confusion_matrix(y_test, y_test_pred))\n",
    "print('Accuracy is  ', accuracy_score(y_test, y_test_pred))\n",
    "print('Precision is ', precision_score(y_test, y_test_pred, average='weighted'))\n",
    "print('Recall is    ', recall_score(y_test,y_test_pred, average='weighted'))\n",
    "print('F1 is        ', f1_score(y_test, y_test_pred, average='weighted'))"
   ]
  },
  {
   "cell_type": "markdown",
   "id": "feb702fb",
   "metadata": {},
   "source": [
    "### Train and Evaluate Gradient Boosting Classifier Feature 12"
   ]
  },
  {
   "cell_type": "code",
   "execution_count": 26,
   "id": "5fe21f9a",
   "metadata": {},
   "outputs": [
    {
     "name": "stdout",
     "output_type": "stream",
     "text": [
      "Results for gradient boosting on training data\n",
      "  Default settings\n",
      "Confusion Matrix\n",
      "[[23952     0]\n",
      " [ 3174     0]]\n",
      "Accuracy is   0.8829904888299049\n",
      "Precision is  0.7796722033640744\n",
      "Recall is     0.8829904888299049\n",
      "F1 is         0.8281212337387479\n",
      "\n",
      "Results for gradient boosting on test data\n",
      "  Default settings\n",
      "Confusion Matrix\n",
      "[[5989    0]\n",
      " [ 793    0]]\n",
      "Accuracy is   0.8830728398702448\n",
      "Precision is  0.7798176405164989\n",
      "Recall is     0.8830728398702448\n",
      "F1 is         0.8282394860203424\n"
     ]
    },
    {
     "name": "stderr",
     "output_type": "stream",
     "text": [
      "C:\\Users\\13158\\miniconda3\\lib\\site-packages\\sklearn\\metrics\\_classification.py:1327: UndefinedMetricWarning: Precision is ill-defined and being set to 0.0 in labels with no predicted samples. Use `zero_division` parameter to control this behavior.\n",
      "  _warn_prf(average, modifier, msg_start, len(result))\n",
      "C:\\Users\\13158\\miniconda3\\lib\\site-packages\\sklearn\\metrics\\_classification.py:1327: UndefinedMetricWarning: Precision is ill-defined and being set to 0.0 in labels with no predicted samples. Use `zero_division` parameter to control this behavior.\n",
      "  _warn_prf(average, modifier, msg_start, len(result))\n"
     ]
    }
   ],
   "source": [
    "from sklearn.ensemble import GradientBoostingClassifier\n",
    "\n",
    "X = train_set[['feature_12']]\n",
    "y = train_set['labels']\n",
    "\n",
    "X_test = test_set[['feature_12']]\n",
    "y_test = test_set['labels']\n",
    "\n",
    "\n",
    "gb_model = GradientBoostingClassifier( min_samples_split = 135, n_estimators = 150, learning_rate = .05 )\n",
    "gb_model.fit(X,y)\n",
    "\n",
    "y_pred = gb_model.predict(X)\n",
    "print('Results for gradient boosting on training data')\n",
    "print('  Default settings')\n",
    "print(\"Confusion Matrix\")\n",
    "print(confusion_matrix(y, y_pred))\n",
    "print('Accuracy is  ', accuracy_score(y, y_pred))\n",
    "print('Precision is ', precision_score(y, y_pred, average='weighted'))\n",
    "print('Recall is    ', recall_score(y,y_pred, average='weighted'))\n",
    "print('F1 is        ', f1_score(y, y_pred, average='weighted'))\n",
    "print()\n",
    "\n",
    "y_test_pred = gb_model.predict(X_test)\n",
    "print('Results for gradient boosting on test data')\n",
    "print('  Default settings')\n",
    "print(\"Confusion Matrix\")\n",
    "print(confusion_matrix(y_test, y_test_pred))\n",
    "print('Accuracy is  ', accuracy_score(y_test, y_test_pred))\n",
    "print('Precision is ', precision_score(y_test, y_test_pred, average='weighted'))\n",
    "print('Recall is    ', recall_score(y_test,y_test_pred, average='weighted'))\n",
    "print('F1 is        ', f1_score(y_test, y_test_pred, average='weighted'))"
   ]
  },
  {
   "cell_type": "markdown",
   "id": "4dbdd897",
   "metadata": {},
   "source": [
    "### Train and Evaluate Gradient Boosting Classifier Feature 13"
   ]
  },
  {
   "cell_type": "code",
   "execution_count": 27,
   "id": "9bd51623",
   "metadata": {},
   "outputs": [
    {
     "name": "stdout",
     "output_type": "stream",
     "text": [
      "Results for gradient boosting on training data\n",
      "  Default settings\n",
      "Confusion Matrix\n",
      "[[23952     0]\n",
      " [ 3174     0]]\n",
      "Accuracy is   0.8829904888299049\n",
      "Precision is  0.7796722033640744\n",
      "Recall is     0.8829904888299049\n",
      "F1 is         0.8281212337387479\n",
      "\n",
      "Results for gradient boosting on test data\n",
      "  Default settings\n",
      "Confusion Matrix\n",
      "[[5989    0]\n",
      " [ 793    0]]\n",
      "Accuracy is   0.8830728398702448\n",
      "Precision is  0.7798176405164989\n",
      "Recall is     0.8830728398702448\n",
      "F1 is         0.8282394860203424\n"
     ]
    },
    {
     "name": "stderr",
     "output_type": "stream",
     "text": [
      "C:\\Users\\13158\\miniconda3\\lib\\site-packages\\sklearn\\metrics\\_classification.py:1327: UndefinedMetricWarning: Precision is ill-defined and being set to 0.0 in labels with no predicted samples. Use `zero_division` parameter to control this behavior.\n",
      "  _warn_prf(average, modifier, msg_start, len(result))\n",
      "C:\\Users\\13158\\miniconda3\\lib\\site-packages\\sklearn\\metrics\\_classification.py:1327: UndefinedMetricWarning: Precision is ill-defined and being set to 0.0 in labels with no predicted samples. Use `zero_division` parameter to control this behavior.\n",
      "  _warn_prf(average, modifier, msg_start, len(result))\n"
     ]
    }
   ],
   "source": [
    "from sklearn.ensemble import GradientBoostingClassifier\n",
    "\n",
    "X = train_set[['feature_13']]\n",
    "y = train_set['labels']\n",
    "\n",
    "X_test = test_set[['feature_13']]\n",
    "y_test = test_set['labels']\n",
    "\n",
    "\n",
    "gb_model = GradientBoostingClassifier( min_samples_split = 135, n_estimators = 150, learning_rate = .05 )\n",
    "gb_model.fit(X,y)\n",
    "\n",
    "y_pred = gb_model.predict(X)\n",
    "print('Results for gradient boosting on training data')\n",
    "print('  Default settings')\n",
    "print(\"Confusion Matrix\")\n",
    "print(confusion_matrix(y, y_pred))\n",
    "print('Accuracy is  ', accuracy_score(y, y_pred))\n",
    "print('Precision is ', precision_score(y, y_pred, average='weighted'))\n",
    "print('Recall is    ', recall_score(y,y_pred, average='weighted'))\n",
    "print('F1 is        ', f1_score(y, y_pred, average='weighted'))\n",
    "print()\n",
    "\n",
    "y_test_pred = gb_model.predict(X_test)\n",
    "print('Results for gradient boosting on test data')\n",
    "print('  Default settings')\n",
    "print(\"Confusion Matrix\")\n",
    "print(confusion_matrix(y_test, y_test_pred))\n",
    "print('Accuracy is  ', accuracy_score(y_test, y_test_pred))\n",
    "print('Precision is ', precision_score(y_test, y_test_pred, average='weighted'))\n",
    "print('Recall is    ', recall_score(y_test,y_test_pred, average='weighted'))\n",
    "print('F1 is        ', f1_score(y_test, y_test_pred, average='weighted'))"
   ]
  },
  {
   "cell_type": "markdown",
   "id": "84932c8d",
   "metadata": {},
   "source": [
    "### Train and Evaluate Gradient Boosting Classifier Feature 15"
   ]
  },
  {
   "cell_type": "code",
   "execution_count": 28,
   "id": "89dd616a",
   "metadata": {},
   "outputs": [
    {
     "name": "stdout",
     "output_type": "stream",
     "text": [
      "Results for gradient boosting on training data\n",
      "  Default settings\n",
      "Confusion Matrix\n",
      "[[23654   298]\n",
      " [ 2564   610]]\n",
      "Accuracy is   0.8944923689449237\n",
      "Precision is  0.8752457851971626\n",
      "Recall is     0.8944923689449237\n",
      "F1 is         0.8675903705353263\n",
      "\n",
      "Results for gradient boosting on test data\n",
      "  Default settings\n",
      "Confusion Matrix\n",
      "[[5899   90]\n",
      " [ 665  128]]\n",
      "Accuracy is   0.8886759068121498\n",
      "Precision is  0.8622630537472651\n",
      "Recall is     0.8886759068121498\n",
      "F1 is         0.8595681055687435\n"
     ]
    }
   ],
   "source": [
    "from sklearn.ensemble import GradientBoostingClassifier\n",
    "\n",
    "X = train_set[['feature_15']]\n",
    "y = train_set['labels']\n",
    "\n",
    "X_test = test_set[['feature_15']]\n",
    "y_test = test_set['labels']\n",
    "\n",
    "\n",
    "gb_model = GradientBoostingClassifier( min_samples_split = 135, n_estimators = 150, learning_rate = .05 )\n",
    "gb_model.fit(X,y)\n",
    "\n",
    "y_pred = gb_model.predict(X)\n",
    "print('Results for gradient boosting on training data')\n",
    "print('  Default settings')\n",
    "print(\"Confusion Matrix\")\n",
    "print(confusion_matrix(y, y_pred))\n",
    "print('Accuracy is  ', accuracy_score(y, y_pred))\n",
    "print('Precision is ', precision_score(y, y_pred, average='weighted'))\n",
    "print('Recall is    ', recall_score(y,y_pred, average='weighted'))\n",
    "print('F1 is        ', f1_score(y, y_pred, average='weighted'))\n",
    "print()\n",
    "\n",
    "y_test_pred = gb_model.predict(X_test)\n",
    "print('Results for gradient boosting on test data')\n",
    "print('  Default settings')\n",
    "print(\"Confusion Matrix\")\n",
    "print(confusion_matrix(y_test, y_test_pred))\n",
    "print('Accuracy is  ', accuracy_score(y_test, y_test_pred))\n",
    "print('Precision is ', precision_score(y_test, y_test_pred, average='weighted'))\n",
    "print('Recall is    ', recall_score(y_test,y_test_pred, average='weighted'))\n",
    "print('F1 is        ', f1_score(y_test, y_test_pred, average='weighted'))"
   ]
  },
  {
   "cell_type": "markdown",
   "id": "f277c742",
   "metadata": {},
   "source": [
    "### Train and Evaluate Gradient Boosting Classifier Feature 3 and 15"
   ]
  },
  {
   "cell_type": "code",
   "execution_count": 30,
   "id": "fac33afd",
   "metadata": {},
   "outputs": [
    {
     "name": "stdout",
     "output_type": "stream",
     "text": [
      "Results for gradient boosting on training data\n",
      "  Default settings\n",
      "Confusion Matrix\n",
      "[[23407   545]\n",
      " [ 2073  1101]]\n",
      "Accuracy is   0.9034874290348743\n",
      "Precision is  0.8894192062056268\n",
      "Recall is     0.9034874290348743\n",
      "F1 is         0.8896812431476573\n",
      "\n",
      "Results for gradient boosting on test data\n",
      "  Default settings\n",
      "Confusion Matrix\n",
      "[[5852  137]\n",
      " [ 562  231]]\n",
      "Accuracy is   0.8969330580949573\n",
      "Precision is  0.8790944771180303\n",
      "Recall is     0.8969330580949573\n",
      "F1 is         0.8798343640159495\n"
     ]
    }
   ],
   "source": [
    "from sklearn.ensemble import GradientBoostingClassifier\n",
    "\n",
    "X = train_set[['feature_3','feature_15']]\n",
    "y = train_set['labels']\n",
    "\n",
    "X_test = test_set[['feature_3','feature_15']]\n",
    "y_test = test_set['labels']\n",
    "\n",
    "\n",
    "gb_model = GradientBoostingClassifier( min_samples_split = 135, n_estimators = 150, learning_rate = .05 )\n",
    "gb_model.fit(X,y)\n",
    "\n",
    "y_pred = gb_model.predict(X)\n",
    "print('Results for gradient boosting on training data')\n",
    "print('  Default settings')\n",
    "print(\"Confusion Matrix\")\n",
    "print(confusion_matrix(y, y_pred))\n",
    "print('Accuracy is  ', accuracy_score(y, y_pred))\n",
    "print('Precision is ', precision_score(y, y_pred, average='weighted'))\n",
    "print('Recall is    ', recall_score(y,y_pred, average='weighted'))\n",
    "print('F1 is        ', f1_score(y, y_pred, average='weighted'))\n",
    "print()\n",
    "\n",
    "y_test_pred = gb_model.predict(X_test)\n",
    "print('Results for gradient boosting on test data')\n",
    "print('  Default settings')\n",
    "print(\"Confusion Matrix\")\n",
    "print(confusion_matrix(y_test, y_test_pred))\n",
    "print('Accuracy is  ', accuracy_score(y_test, y_test_pred))\n",
    "print('Precision is ', precision_score(y_test, y_test_pred, average='weighted'))\n",
    "print('Recall is    ', recall_score(y_test,y_test_pred, average='weighted'))\n",
    "print('F1 is        ', f1_score(y_test, y_test_pred, average='weighted'))"
   ]
  },
  {
   "cell_type": "markdown",
   "id": "99fcf3b3",
   "metadata": {},
   "source": [
    "### Train and Evaluate Gradient Boosting Classifier Feature 0"
   ]
  },
  {
   "cell_type": "code",
   "execution_count": 31,
   "id": "ab705615",
   "metadata": {},
   "outputs": [
    {
     "name": "stdout",
     "output_type": "stream",
     "text": [
      "Results for gradient boosting on training data\n",
      "  Default settings\n",
      "Confusion Matrix\n",
      "[[23942    10]\n",
      " [ 3147    27]]\n",
      "Accuracy is   0.883617193836172\n",
      "Precision is  0.865796492632661\n",
      "Recall is     0.883617193836172\n",
      "F1 is         0.8303433236300408\n",
      "\n",
      "Results for gradient boosting on test data\n",
      "  Default settings\n",
      "Confusion Matrix\n",
      "[[5984    5]\n",
      " [ 790    3]]\n",
      "Accuracy is   0.8827779416101444\n",
      "Precision is  0.8239344688962438\n",
      "Recall is     0.8827779416101444\n",
      "F1 is         0.8289425945638992\n"
     ]
    }
   ],
   "source": [
    "X = train_set[['feature_0']]\n",
    "y = train_set['labels']\n",
    "\n",
    "X_test = test_set[['feature_0']]\n",
    "y_test = test_set['labels']\n",
    "\n",
    "\n",
    "gb_model = GradientBoostingClassifier( min_samples_split = 135, n_estimators = 150, learning_rate = .05 )\n",
    "gb_model.fit(X,y)\n",
    "\n",
    "y_pred = gb_model.predict(X)\n",
    "print('Results for gradient boosting on training data')\n",
    "print('  Default settings')\n",
    "print(\"Confusion Matrix\")\n",
    "print(confusion_matrix(y, y_pred))\n",
    "print('Accuracy is  ', accuracy_score(y, y_pred))\n",
    "print('Precision is ', precision_score(y, y_pred, average='weighted'))\n",
    "print('Recall is    ', recall_score(y,y_pred, average='weighted'))\n",
    "print('F1 is        ', f1_score(y, y_pred, average='weighted'))\n",
    "print()\n",
    "\n",
    "y_test_pred = gb_model.predict(X_test)\n",
    "print('Results for gradient boosting on test data')\n",
    "print('  Default settings')\n",
    "print(\"Confusion Matrix\")\n",
    "print(confusion_matrix(y_test, y_test_pred))\n",
    "print('Accuracy is  ', accuracy_score(y_test, y_test_pred))\n",
    "print('Precision is ', precision_score(y_test, y_test_pred, average='weighted'))\n",
    "print('Recall is    ', recall_score(y_test,y_test_pred, average='weighted'))\n",
    "print('F1 is        ', f1_score(y_test, y_test_pred, average='weighted'))"
   ]
  },
  {
   "cell_type": "markdown",
   "id": "62204934",
   "metadata": {},
   "source": [
    "### Train and Evaluate Gradient Boosting Classifier Feature 0, 3, and 15"
   ]
  },
  {
   "cell_type": "code",
   "execution_count": 32,
   "id": "813279b4",
   "metadata": {},
   "outputs": [
    {
     "name": "stdout",
     "output_type": "stream",
     "text": [
      "Results for gradient boosting on training data\n",
      "  Default settings\n",
      "Confusion Matrix\n",
      "[[23360   592]\n",
      " [ 2025  1149]]\n",
      "Accuracy is   0.9035242940352429\n",
      "Precision is  0.8897752414938529\n",
      "Recall is     0.9035242940352429\n",
      "F1 is         0.8908613115131339\n",
      "\n",
      "Results for gradient boosting on test data\n",
      "  Default settings\n",
      "Confusion Matrix\n",
      "[[5837  152]\n",
      " [ 537  256]]\n",
      "Accuracy is   0.8984075493954585\n",
      "Precision is  0.8820413305272015\n",
      "Recall is     0.8984075493954585\n",
      "F1 is         0.8837058576733535\n"
     ]
    }
   ],
   "source": [
    "X = train_set[['feature_0','feature_3','feature_15']]\n",
    "y = train_set['labels']\n",
    "\n",
    "X_test = test_set[['feature_0','feature_3','feature_15']]\n",
    "y_test = test_set['labels']\n",
    "\n",
    "\n",
    "gb_model = GradientBoostingClassifier( min_samples_split = 135, n_estimators = 150, learning_rate = .05 )\n",
    "gb_model.fit(X,y)\n",
    "\n",
    "y_pred = gb_model.predict(X)\n",
    "print('Results for gradient boosting on training data')\n",
    "print('  Default settings')\n",
    "print(\"Confusion Matrix\")\n",
    "print(confusion_matrix(y, y_pred))\n",
    "print('Accuracy is  ', accuracy_score(y, y_pred))\n",
    "print('Precision is ', precision_score(y, y_pred, average='weighted'))\n",
    "print('Recall is    ', recall_score(y,y_pred, average='weighted'))\n",
    "print('F1 is        ', f1_score(y, y_pred, average='weighted'))\n",
    "print()\n",
    "\n",
    "y_test_pred = gb_model.predict(X_test)\n",
    "print('Results for gradient boosting on test data')\n",
    "print('  Default settings')\n",
    "print(\"Confusion Matrix\")\n",
    "print(confusion_matrix(y_test, y_test_pred))\n",
    "print('Accuracy is  ', accuracy_score(y_test, y_test_pred))\n",
    "print('Precision is ', precision_score(y_test, y_test_pred, average='weighted'))\n",
    "print('Recall is    ', recall_score(y_test,y_test_pred, average='weighted'))\n",
    "print('F1 is        ', f1_score(y_test, y_test_pred, average='weighted'))"
   ]
  },
  {
   "cell_type": "code",
   "execution_count": null,
   "id": "d0fb47f0",
   "metadata": {},
   "outputs": [],
   "source": []
  }
 ],
 "metadata": {
  "kernelspec": {
   "display_name": "Python 3 (ipykernel)",
   "language": "python",
   "name": "python3"
  },
  "language_info": {
   "codemirror_mode": {
    "name": "ipython",
    "version": 3
   },
   "file_extension": ".py",
   "mimetype": "text/x-python",
   "name": "python",
   "nbconvert_exporter": "python",
   "pygments_lexer": "ipython3",
   "version": "3.9.7"
  }
 },
 "nbformat": 4,
 "nbformat_minor": 5
}
